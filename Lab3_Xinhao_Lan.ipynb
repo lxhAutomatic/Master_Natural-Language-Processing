{
  "cells": [
    {
      "cell_type": "code",
      "execution_count": null,
      "metadata": {
        "id": "HgE285VuVxvv"
      },
      "outputs": [],
      "source": [
        "Xinhao Lan (1082620)"
      ]
    },
    {
      "cell_type": "markdown",
      "metadata": {
        "id": "r_codXTgCGLZ"
      },
      "source": [
        "# Lab 3: Constituency parsing with CKY\n",
        "\n",
        "### Natural Language Processing, 2022\n",
        "\n",
        "\n",
        "The grammatical structure of a sentence can be represented with a Context Free Grammar (CFG). When we additionally assign probabilities to the rules of the CFG we get a PCFG: a _Probabilistic_ CFG. \n",
        "\n",
        "Given a sufficiently expressive PCFG (one that holds enough rules) we can parse new sentences using the Cocke–Kasami–Younger (CKY) algorithm. You can use this algorithm in three ways: to find the set of all the possible parses $p$ of a sentence $s$ under a PCFG $G$; to find the probability of the sentence by summing up the probabilities of these parses; or to find the parse $p^{*}$ of the highest probability.\n",
        "\n",
        "\n",
        "### Tasks\n",
        "1. In this notebook you will learn how to represent a PCFG in an object-oriented manner as a collection of python classes. These classes are already defined for you. Read them through thoroughly and make sure that you understand them well. You have to use them in task 2.\n",
        "\n",
        "2. Implement the CKY algorithm to find the most probable parse $p^{*}$ for a sentence. Your implementation will follow the psuedo-code that is given in both the lecture slides, and Jurafsky and Martin.\n",
        "\n",
        "The reference for this notebook is chapters 13 and 14 of [Jurafsky and Martin](https://web.stanford.edu/~jurafsky/slp3/) (both in the 2nd and 3rd edition) and the slides from week 4.\n",
        "\n",
        "\n",
        "------\n",
        "\n",
        "### Rules\n",
        "* The lab exercises should be made in **groups of two people**.\n",
        "\n",
        "* The assignment should submitted to **Blackboard** as `.ipynb`. Only **one submission per group**!\n",
        "\n",
        "* The **filename** should be `lab2_id1_id2.ipynb`, e.g., `lab3_1234567_7654321.ipynb`.\n",
        "\n",
        "* The notebook is graded on a scale of **0-100**. The number of points for each question is indicated in parantheses.\n",
        "\n",
        "\n",
        "Notes on implementation:\n",
        "\n",
        "* You should **write your code and answers in this iPython Notebook** (see http://ipython.org/notebook.html for reference material). If you have problems, please contact your teaching assistant.\n",
        "\n",
        "* Use only **one cell for code** and **one cell for markdown** answers!    \n",
        "\n",
        "    * Put all code in the cell with the `# YOUR CODE HERE` comment.\n",
        "    \n",
        "    * For theoretical questions, put your solution in the YOUR ANSWER HERE cell.\n",
        "    \n",
        "* Test your code and **make sure we can run your notebook**\n",
        "\n",
        "* For some sections in this notebook, you will need to have the Natural Language Toolkit ([NLTK](http://www.nltk.org/)) installed. We will use a feature of the NLTK toolkit that lets you draw constituency parses. Details for download can be found here: http://www.nltk.org/install.html.\n",
        "\n",
        "------"
      ]
    },
    {
      "cell_type": "code",
      "execution_count": null,
      "metadata": {
        "id": "Q2rFTz2rCGLd"
      },
      "outputs": [],
      "source": [
        "import numpy as np\n",
        "from collections import Counter, defaultdict\n",
        "import math\n",
        "import nltk\n",
        "from nltk.tree import Tree"
      ]
    },
    {
      "cell_type": "code",
      "execution_count": null,
      "metadata": {
        "id": "Mv-sx3GPp3Wx"
      },
      "outputs": [],
      "source": [
        "import queue"
      ]
    },
    {
      "cell_type": "markdown",
      "metadata": {
        "id": "0X2Nk5i3CGLg"
      },
      "source": [
        "# 1. PCFG\n",
        "\n",
        "In this lab we will show you a way to represent a **PCFG** using python objects. We will introduce the following classes:\n",
        "\n",
        "* Symbol\n",
        "    * Terminal\n",
        "    * Nonterminal\n",
        "* Rule\n",
        "\n",
        "At first glance, this might seem like a lot of work. But, hopefully, by the time you get to implementing CKY you will be confinced of the benefits of these constructions.\n",
        "\n",
        "## Symbol\n",
        "\n",
        "Recall that:\n",
        "* **Terminal** symbols are the words of the sentence: _I, ate, salad, the_ etc.\n",
        "* **Nonterminal** symbols are the syntactic categories of the various constituents: _S, NP, VP, Det_ etc.\n",
        "\n",
        "In our representation, `Symbol` is going to be a container class. The classes `Terminal` and `Nonterminal` will *inherit* from the `Symbol` class and will hence both become a type of symbol. The classes themselves are effectively a container for the underlying python strings. "
      ]
    },
    {
      "cell_type": "code",
      "execution_count": null,
      "metadata": {
        "id": "VlsXWvTjCGLh"
      },
      "outputs": [],
      "source": [
        "class Symbol:\n",
        "    \"\"\"\n",
        "    A symbol in a grammar.\n",
        "    This class will be used as parent class for Terminal, Nonterminal.\n",
        "    This way both will be a type of Symbol.\n",
        "    \"\"\"\n",
        "    def __init__(self):\n",
        "        pass\n",
        "\n",
        "\n",
        "class Terminal(Symbol):\n",
        "    \"\"\"\n",
        "    Terminal symbols are words in a vocabulary\n",
        "    \n",
        "    E.g. 'I', 'ate', 'salad', 'the'\n",
        "    \"\"\"\n",
        "\n",
        "    def __init__(self, symbol: str):\n",
        "        assert type(symbol) is str, 'A Terminal takes a python string, got %s' % type(symbol)\n",
        "        self._symbol = symbol\n",
        "\n",
        "    def is_terminal(self):\n",
        "        return True\n",
        "\n",
        "    def is_nonterminal(self):\n",
        "        return False\n",
        "\n",
        "    def __str__(self):\n",
        "        return \"'%s'\" % self._symbol\n",
        "\n",
        "    def __repr__(self):\n",
        "        return 'Terminal(%r)' % self._symbol\n",
        "\n",
        "    def __hash__(self):\n",
        "        return hash(self._symbol)\n",
        "\n",
        "    def __len__(self):\n",
        "        \"\"\"The length of the underlying python string\"\"\"\n",
        "        return len(self._symbol)\n",
        "\n",
        "    def __eq__(self, other):\n",
        "        return type(self) == type(other) and self._symbol == other._symbol\n",
        "\n",
        "    def __ne__(self, other):\n",
        "        return not (self == other)\n",
        "    \n",
        "    @property\n",
        "    def obj(self):\n",
        "        \"\"\"Returns the underlying python string\"\"\"\n",
        "        return self._symbol\n",
        "\n",
        "\n",
        "class Nonterminal(Symbol):\n",
        "    \"\"\"\n",
        "    Nonterminal symbols are the grammatical classes in a grammar.\n",
        "    \n",
        "    E.g. S, NP, VP, N, Det, etc.\n",
        "    \"\"\"\n",
        "\n",
        "    def __init__(self, symbol: str):\n",
        "        assert type(symbol) is str, 'A Nonterminal takes a python string, got %s' % type(symbol)\n",
        "        self._symbol = symbol\n",
        "\n",
        "    def is_terminal(self):\n",
        "        return False\n",
        "    \n",
        "    def is_nonterminal(self):\n",
        "        return True\n",
        "\n",
        "    def __str__(self):\n",
        "        return \"[%s]\" % self._symbol\n",
        "\n",
        "    def __repr__(self):\n",
        "        return 'Nonterminal(%r)' % self._symbol\n",
        "\n",
        "    def __hash__(self):\n",
        "        return hash(self._symbol)\n",
        "    \n",
        "    def __len__(self):\n",
        "        \"\"\"The length of the underlying python string\"\"\"\n",
        "        return len(self._symbol)\n",
        "    \n",
        "    def __eq__(self, other):\n",
        "        return type(self) == type(other) and self._symbol == other._symbol\n",
        "\n",
        "    def __ne__(self, other):\n",
        "        return not (self == other)\n",
        "    \n",
        "    @property\n",
        "    def obj(self):\n",
        "        \"\"\"Returns the underlying python string\"\"\"\n",
        "        return self._symbol\n"
      ]
    },
    {
      "cell_type": "markdown",
      "metadata": {
        "id": "iJ0WmVOZCGLj"
      },
      "source": [
        "Let's try out the classes by initializing some terminal and nonterminal symbols:"
      ]
    },
    {
      "cell_type": "code",
      "execution_count": null,
      "metadata": {
        "id": "vv2qVwloCGLk"
      },
      "outputs": [],
      "source": [
        "dog = Terminal('dog')\n",
        "the = Terminal('the')\n",
        "walks = Terminal('walks')\n",
        "\n",
        "S = Nonterminal('S')\n",
        "NP = Nonterminal('NP')\n",
        "NP_prime = Nonterminal('NP')\n",
        "VP = Nonterminal('VP')\n",
        "V = Nonterminal('V')\n",
        "N = Nonterminal('N')\n",
        "Det = Nonterminal('Det')"
      ]
    },
    {
      "cell_type": "markdown",
      "metadata": {
        "id": "NGZHKNAUCGLl"
      },
      "source": [
        "The methods `__eq__` and `__ne__` make it possible to compare our objects using standard Python syntax. But more importantly: compare in the way that we are interested in, namely whether the underlying representation is the same.\n",
        "\n",
        "To see the difference, try commenting out the method `__eq__` in the class above, and notice the different result of the equality test `NP==NP_prime`."
      ]
    },
    {
      "cell_type": "code",
      "execution_count": null,
      "metadata": {
        "colab": {
          "base_uri": "https://localhost:8080/"
        },
        "id": "AKWBrXghCGLl",
        "outputId": "155c0267-3ecd-46bb-f07f-9a22e5bb9574"
      },
      "outputs": [
        {
          "name": "stdout",
          "output_type": "stream",
          "text": [
            "'dog'\n",
            "[NP]\n",
            "\n",
            "False\n",
            "True\n",
            "True\n",
            "True\n"
          ]
        }
      ],
      "source": [
        "print(dog)\n",
        "print(NP)\n",
        "print()\n",
        "print(NP==Det)\n",
        "print(NP!=Det)\n",
        "print(NP==NP)\n",
        "print(NP==NP_prime)"
      ]
    },
    {
      "cell_type": "markdown",
      "metadata": {
        "id": "qScfOAVvCGLm"
      },
      "source": [
        "Note the difference between calling `print(NP)` and simply calling `NP`. The first is taken care of by the method `__str__` and the second by the method `__repr__`."
      ]
    },
    {
      "cell_type": "code",
      "execution_count": null,
      "metadata": {
        "colab": {
          "base_uri": "https://localhost:8080/"
        },
        "id": "wTS_97wYCGLo",
        "outputId": "bba86f3b-9050-4fb4-f5f4-bb8988266044"
      },
      "outputs": [
        {
          "data": {
            "text/plain": [
              "Terminal('dog')"
            ]
          },
          "execution_count": 50,
          "metadata": {},
          "output_type": "execute_result"
        }
      ],
      "source": [
        "dog"
      ]
    },
    {
      "cell_type": "markdown",
      "metadata": {
        "id": "lXMlXaFkCGLo"
      },
      "source": [
        "We can also easily check if our symbol is a terminal or not:"
      ]
    },
    {
      "cell_type": "code",
      "execution_count": null,
      "metadata": {
        "colab": {
          "base_uri": "https://localhost:8080/"
        },
        "id": "uMuoMVHQCGLp",
        "outputId": "8a7c3249-5f97-4430-b4b9-d0a99e2d9d59"
      },
      "outputs": [
        {
          "data": {
            "text/plain": [
              "True"
            ]
          },
          "execution_count": 51,
          "metadata": {},
          "output_type": "execute_result"
        }
      ],
      "source": [
        "dog.is_terminal()"
      ]
    },
    {
      "cell_type": "code",
      "execution_count": null,
      "metadata": {
        "colab": {
          "base_uri": "https://localhost:8080/"
        },
        "id": "GtnXm0IUCGLq",
        "outputId": "b82d4cd5-55bb-42a5-f878-5717de28cd6e"
      },
      "outputs": [
        {
          "data": {
            "text/plain": [
              "False"
            ]
          },
          "execution_count": 52,
          "metadata": {},
          "output_type": "execute_result"
        }
      ],
      "source": [
        "NP.is_terminal()"
      ]
    },
    {
      "cell_type": "markdown",
      "metadata": {
        "id": "EvtkwhBhCGLq"
      },
      "source": [
        "Finally the method `__hash__` makes our object *hashable*, and hence usable in a datastructure like a dictionary. \n",
        "\n",
        "Try commenting out this method above in the class and then retry constructing the dictionary: notice the error."
      ]
    },
    {
      "cell_type": "code",
      "execution_count": null,
      "metadata": {
        "colab": {
          "base_uri": "https://localhost:8080/"
        },
        "id": "nniQ14QyCGLr",
        "outputId": "6cb1f9b5-343d-4ff5-9797-c607b1f6d290"
      },
      "outputs": [
        {
          "data": {
            "text/plain": [
              "{Nonterminal('NP'): 1, Nonterminal('S'): 2}"
            ]
          },
          "execution_count": 53,
          "metadata": {},
          "output_type": "execute_result"
        }
      ],
      "source": [
        "d = {NP: 1, S: 2}\n",
        "d"
      ]
    },
    {
      "cell_type": "markdown",
      "metadata": {
        "id": "vpC5JyBcCGLs"
      },
      "source": [
        "## Rules\n",
        "\n",
        "In a PCFG a **rule** looks something like this \n",
        "\n",
        "$$NP \\to Det\\;N,$$\n",
        "\n",
        "with a corresponding probability, for example $1.0$ if we lived in a world where all noun phrases had this grammatical structure.\n",
        "\n",
        "In our representation, `Rule` will be an object made of a left-hand side (`lhs`) symbol, a sequence of right-hand side symbols (`rhs`) and a probability `prob`. \n",
        "\n",
        "If we use the above defined symbols, we can call\n",
        "\n",
        "    rule = Rule(NP, [Det, N], 1.0).\n",
        "   \n",
        "This will construct an instance called `rule` which represent the rule above\n",
        "\n",
        "    [NP] -> [Det] [N] (1.0).\n",
        "    "
      ]
    },
    {
      "cell_type": "code",
      "execution_count": null,
      "metadata": {
        "id": "vXN4G4t-CGLs"
      },
      "outputs": [],
      "source": [
        "class Rule:\n",
        "\n",
        "    def __init__(self, lhs, rhs, prob):\n",
        "        \"\"\"\n",
        "        Constructs a Rule.\n",
        "        A Rule takes a LHS symbol and a list/tuple of RHS symbols.\n",
        "\n",
        "        :param lhs: the LHS nonterminal\n",
        "        :param rhs: a sequence of RHS symbols (terminal or nonterminal)\n",
        "        :param prob: probability of the rule\n",
        "        \"\"\"\n",
        "\n",
        "        assert isinstance(lhs, Symbol), 'LHS must be an instance of Symbol'\n",
        "        assert len(rhs) > 0, 'If you want an empty RHS, use an epsilon Terminal EPS'\n",
        "        assert all(isinstance(s, Symbol) for s in rhs), 'RHS must be a sequence of Symbol objects'\n",
        "        self._lhs = lhs\n",
        "        self._rhs = tuple(rhs)\n",
        "        self._prob = prob\n",
        "\n",
        "\n",
        "    def __eq__(self, other):\n",
        "        return self._lhs == other._lhs and self._rhs == other._rhs and self._prob == other._prob\n",
        "\n",
        "    def __ne__(self, other):\n",
        "        return not (self == other)\n",
        "\n",
        "    def __hash__(self):\n",
        "        return hash((self._lhs, self._rhs, self._prob))\n",
        "\n",
        "    def __repr__(self):\n",
        "        return '%s -> %s (%s)' % (self._lhs,\n",
        "                ' '.join(str(sym) for sym in self._rhs),\n",
        "                self.prob)\n",
        "\n",
        "    def is_binary(self):\n",
        "        \"\"\"True if Rule is binary: A -> B C\"\"\"\n",
        "        return len(self._rhs) == 2\n",
        "    \n",
        "    def is_unary(self):\n",
        "        \"\"\"True if Rule is unary: A -> w\"\"\"\n",
        "        return len(self._rhs) == 1\n",
        "    \n",
        "    @property\n",
        "    def lhs(self):\n",
        "        \"\"\"Returns the lhs of the rule\"\"\"\n",
        "        return self._lhs\n",
        "\n",
        "    @property\n",
        "    def rhs(self):\n",
        "        \"\"\"Returns the rhs of the rule\"\"\"\n",
        "        return self._rhs\n",
        "\n",
        "    @property\n",
        "    def prob(self):\n",
        "        \"\"\"Returns the probability of the rule\"\"\"\n",
        "        return self._prob\n"
      ]
    },
    {
      "cell_type": "markdown",
      "metadata": {
        "id": "r4U1gI2rCGLt"
      },
      "source": [
        "Just as with `Terminal` and `Nonterminal` you can print an instance of `Rule`, you can access its attributes, and you can hash rules with containers such as dict and set."
      ]
    },
    {
      "cell_type": "code",
      "execution_count": null,
      "metadata": {
        "colab": {
          "base_uri": "https://localhost:8080/"
        },
        "id": "Ld0VMQWWCGLu",
        "outputId": "ddd18817-912b-4062-a758-30b5029fd52c"
      },
      "outputs": [
        {
          "name": "stdout",
          "output_type": "stream",
          "text": [
            "[S] -> [NP] [VP] (1.0)\n",
            "[NP] -> [Det] [N] (1.0)\n",
            "[N] -> 'dog' (1.0)\n",
            "[Det] -> 'the' (1.0)\n"
          ]
        }
      ],
      "source": [
        "r1 = Rule(S, [NP, VP], 1.0)\n",
        "r2 = Rule(NP, [Det, N], 1.0)\n",
        "r3 = Rule(N, [dog], 1.0)\n",
        "r4 = Rule(Det, [the], 1.0)\n",
        "r5 = Rule(VP, [walks], 1.0)\n",
        "\n",
        "print(r1)\n",
        "print(r2)\n",
        "print(r3)\n",
        "print(r4)"
      ]
    },
    {
      "cell_type": "code",
      "execution_count": null,
      "metadata": {
        "colab": {
          "base_uri": "https://localhost:8080/"
        },
        "id": "Y62yZ8I8CGLv",
        "outputId": "6b15e8aa-bbd1-40ce-e725-ebf5ce1b7689"
      },
      "outputs": [
        {
          "name": "stdout",
          "output_type": "stream",
          "text": [
            "1.0\n"
          ]
        }
      ],
      "source": [
        "print(r1.prob)"
      ]
    },
    {
      "cell_type": "code",
      "execution_count": null,
      "metadata": {
        "colab": {
          "base_uri": "https://localhost:8080/"
        },
        "id": "YhEJETHgCGLv",
        "outputId": "af241e8e-72ca-4389-fe2a-9c92075f3938"
      },
      "outputs": [
        {
          "data": {
            "text/plain": [
              "True"
            ]
          },
          "execution_count": 57,
          "metadata": {},
          "output_type": "execute_result"
        }
      ],
      "source": [
        "r1 in set([r1])"
      ]
    },
    {
      "cell_type": "code",
      "execution_count": null,
      "metadata": {
        "colab": {
          "base_uri": "https://localhost:8080/"
        },
        "id": "WTAJ2CmBCGLw",
        "outputId": "8b748e17-989a-43c0-b5ad-f7a2c52ea341"
      },
      "outputs": [
        {
          "data": {
            "text/plain": [
              "{[NP] -> [Det] [N] (1.0): 2, [S] -> [NP] [VP] (1.0): 1}"
            ]
          },
          "execution_count": 58,
          "metadata": {},
          "output_type": "execute_result"
        }
      ],
      "source": [
        "d = {r1: 1, r2: 2}\n",
        "d"
      ]
    },
    {
      "cell_type": "markdown",
      "metadata": {
        "id": "OrHaNQzKCGLw"
      },
      "source": [
        "## Grammar\n",
        "\n",
        "A `PCFG` class is a container for `Rules`. The `Rules` are stored in the `PCFG` in such a way that they can be accesed easily in different ways."
      ]
    },
    {
      "cell_type": "code",
      "execution_count": null,
      "metadata": {
        "id": "sm6tzk7TCGLw"
      },
      "outputs": [],
      "source": [
        "class PCFG(object):\n",
        "    \"\"\"\n",
        "    Constructs a PCFG.\n",
        "    A PCFG stores a list of rules that can be accessed in various ways.\n",
        "    \n",
        "    :param rules: an optional list of rules to initialize the grammar with\n",
        "    \"\"\"\n",
        "    def __init__(self, rules=[]):\n",
        "        self._rules = []\n",
        "        self._rules_by_lhs = defaultdict(list)\n",
        "        self._terminals = set()\n",
        "        self._nonterminals = set()\n",
        "        for rule in rules:\n",
        "            self.add(rule)\n",
        "\n",
        "    def add(self, rule):\n",
        "        \"\"\"Adds a rule to the grammar\"\"\"\n",
        "        if not rule in self._rules:\n",
        "            self._rules.append(rule)\n",
        "            self._rules_by_lhs[rule.lhs].append(rule)\n",
        "            self._nonterminals.add(rule.lhs)\n",
        "            for s in rule.rhs:\n",
        "                if s.is_terminal():\n",
        "                    self._terminals.add(s)\n",
        "                else:\n",
        "                    self._nonterminals.add(s)\n",
        "\n",
        "    def update(self, rules):\n",
        "        \"\"\"Add a list of rules to the grammar\"\"\"\n",
        "        for rule in rules:\n",
        "            self.add(rule)\n",
        "\n",
        "    @property\n",
        "    def nonterminals(self):\n",
        "        \"\"\"The list of nonterminal symbols in the grammar\"\"\"\n",
        "        return self._nonterminals\n",
        "\n",
        "    @property\n",
        "    def terminals(self):\n",
        "        \"\"\"The list of terminal symbols in the grammar\"\"\"\n",
        "        return self._terminals\n",
        "    \n",
        "    @property\n",
        "    def rules(self):\n",
        "        \"\"\"The list of rules in the grammar\"\"\"\n",
        "        return self._rules\n",
        "    \n",
        "    @property\n",
        "    def binary_rules(self):\n",
        "        \"\"\"The list of binary rules in the grammar\"\"\"\n",
        "        return [rule for rule in self._rules if rule.is_binary()]\n",
        "    \n",
        "    @property\n",
        "    def unary_rules(self):\n",
        "        \"\"\"The list of unary rules in the grammar\"\"\"\n",
        "        return [rule for rule in self._rules if rule.is_unary()]\n",
        "\n",
        "    def __len__(self):\n",
        "        return len(self._rules)\n",
        "\n",
        "    def __getitem__(self, lhs):\n",
        "        return self._rules_by_lhs.get(lhs, frozenset())\n",
        "\n",
        "    def get(self, lhs, default=frozenset()):\n",
        "        \"\"\"The list of rules whose LHS is the given symbol lhs\"\"\"\n",
        "        return self._rules_by_lhs.get(lhs, frozenset())\n",
        "\n",
        "    def __iter__(self):\n",
        "        \"\"\"Iterator over rules (in arbitrary order)\"\"\"\n",
        "        return iter(self._rules)\n",
        "\n",
        "    def iteritems(self):\n",
        "        \"\"\"Iterator over pairs of the kind (LHS, rules rewriting LHS)\"\"\"\n",
        "        return self._rules_by_lhs.items()\n",
        "\n",
        "    def __str__(self):\n",
        "        \"\"\"Prints the grammar line by line\"\"\"\n",
        "        lines = []\n",
        "        for lhs, rules in self.iteritems():\n",
        "            for rule in rules:\n",
        "                lines.append(str(rule))\n",
        "        return '\\n'.join(lines)\n"
      ]
    },
    {
      "cell_type": "markdown",
      "metadata": {
        "id": "xcGZAbUSCGLx"
      },
      "source": [
        "Initialize a grammar"
      ]
    },
    {
      "cell_type": "code",
      "execution_count": null,
      "metadata": {
        "id": "pIVuStsyCGLy"
      },
      "outputs": [],
      "source": [
        "G = PCFG()"
      ]
    },
    {
      "cell_type": "markdown",
      "metadata": {
        "id": "CVkm-al_CGLy"
      },
      "source": [
        "We can add rules individually with `add`, or as a list with `update`:"
      ]
    },
    {
      "cell_type": "code",
      "execution_count": null,
      "metadata": {
        "id": "j-d55FW6CGLy"
      },
      "outputs": [],
      "source": [
        "G.add(r1)\n",
        "G.update([r2,r3,r4,r5])"
      ]
    },
    {
      "cell_type": "markdown",
      "metadata": {
        "collapsed": true,
        "id": "f-3Mf4JPCGLy"
      },
      "source": [
        "We can print the grammar"
      ]
    },
    {
      "cell_type": "code",
      "execution_count": null,
      "metadata": {
        "colab": {
          "base_uri": "https://localhost:8080/"
        },
        "id": "xZNR4GxqCGLy",
        "outputId": "7ddadae5-e1f8-42a0-b6d3-8a65fe6aa1e3"
      },
      "outputs": [
        {
          "name": "stdout",
          "output_type": "stream",
          "text": [
            "[S] -> [NP] [VP] (1.0)\n",
            "[NP] -> [Det] [N] (1.0)\n",
            "[N] -> 'dog' (1.0)\n",
            "[Det] -> 'the' (1.0)\n",
            "[VP] -> 'walks' (1.0)\n"
          ]
        }
      ],
      "source": [
        "print(G)"
      ]
    },
    {
      "cell_type": "markdown",
      "metadata": {
        "id": "KpEzw7CSCGLz"
      },
      "source": [
        "We can get the set of rewrite rules for a certain LHS symbol."
      ]
    },
    {
      "cell_type": "code",
      "execution_count": null,
      "metadata": {
        "colab": {
          "base_uri": "https://localhost:8080/"
        },
        "id": "IvJI3GIPCGLz",
        "outputId": "9bc2508b-473d-4128-b489-e0e6f4ce9c6c"
      },
      "outputs": [
        {
          "data": {
            "text/plain": [
              "[[S] -> [NP] [VP] (1.0)]"
            ]
          },
          "execution_count": 63,
          "metadata": {},
          "output_type": "execute_result"
        }
      ],
      "source": [
        "G.get(S)"
      ]
    },
    {
      "cell_type": "code",
      "execution_count": null,
      "metadata": {
        "colab": {
          "base_uri": "https://localhost:8080/"
        },
        "id": "M3cghJx6CGL0",
        "outputId": "67372e37-e6bd-4b39-cedd-2e885864a737"
      },
      "outputs": [
        {
          "data": {
            "text/plain": [
              "[[NP] -> [Det] [N] (1.0)]"
            ]
          },
          "execution_count": 64,
          "metadata": {},
          "output_type": "execute_result"
        }
      ],
      "source": [
        "G.get(NP)"
      ]
    },
    {
      "cell_type": "markdown",
      "metadata": {
        "id": "MNh0XOhuCGL0"
      },
      "source": [
        "We can also iterate through rules in the grammar.\n",
        "\n",
        "Note that the following is basically counting how many rules we have in the grammar."
      ]
    },
    {
      "cell_type": "code",
      "execution_count": null,
      "metadata": {
        "colab": {
          "base_uri": "https://localhost:8080/"
        },
        "id": "bXVqzI9lCGL1",
        "outputId": "99c1523f-3139-4a37-dac0-2c888784fdeb"
      },
      "outputs": [
        {
          "data": {
            "text/plain": [
              "5"
            ]
          },
          "execution_count": 65,
          "metadata": {},
          "output_type": "execute_result"
        }
      ],
      "source": [
        "sum(1 for r in G)"
      ]
    },
    {
      "cell_type": "markdown",
      "metadata": {
        "id": "4jjU3krCCGL1"
      },
      "source": [
        "which can also be done in a more efficient way"
      ]
    },
    {
      "cell_type": "code",
      "execution_count": null,
      "metadata": {
        "colab": {
          "base_uri": "https://localhost:8080/"
        },
        "id": "1Vi814lRCGL2",
        "outputId": "543ec3c5-fc60-46c0-bea4-37e58ab45d7d"
      },
      "outputs": [
        {
          "data": {
            "text/plain": [
              "5"
            ]
          },
          "execution_count": 66,
          "metadata": {},
          "output_type": "execute_result"
        }
      ],
      "source": [
        "len(G)"
      ]
    },
    {
      "cell_type": "markdown",
      "metadata": {
        "id": "1l7BmtlyCGL2"
      },
      "source": [
        "We can access the set of terminals and nonterminals of the grammar:"
      ]
    },
    {
      "cell_type": "code",
      "execution_count": null,
      "metadata": {
        "colab": {
          "base_uri": "https://localhost:8080/"
        },
        "id": "9--IbP75CGL2",
        "outputId": "6776d02a-cb9d-4f2d-839a-20fc718af99e"
      },
      "outputs": [
        {
          "name": "stdout",
          "output_type": "stream",
          "text": [
            "{Nonterminal('Det'), Nonterminal('N'), Nonterminal('NP'), Nonterminal('VP'), Nonterminal('S')}\n"
          ]
        }
      ],
      "source": [
        "print(G.nonterminals)"
      ]
    },
    {
      "cell_type": "code",
      "execution_count": null,
      "metadata": {
        "colab": {
          "base_uri": "https://localhost:8080/"
        },
        "id": "7MvItFKtCGL2",
        "outputId": "b99dcf20-c608-40cf-ee80-1100021e9d2f"
      },
      "outputs": [
        {
          "name": "stdout",
          "output_type": "stream",
          "text": [
            "{Terminal('dog'), Terminal('the'), Terminal('walks')}\n"
          ]
        }
      ],
      "source": [
        "print(G.terminals)"
      ]
    },
    {
      "cell_type": "code",
      "execution_count": null,
      "metadata": {
        "colab": {
          "base_uri": "https://localhost:8080/"
        },
        "id": "Q29uTBaXCGL3",
        "outputId": "dcf0202d-a7fa-4f05-a28b-8c6ce673e934"
      },
      "outputs": [
        {
          "data": {
            "text/plain": [
              "True"
            ]
          },
          "execution_count": 69,
          "metadata": {},
          "output_type": "execute_result"
        }
      ],
      "source": [
        "S in G.nonterminals"
      ]
    },
    {
      "cell_type": "code",
      "execution_count": null,
      "metadata": {
        "colab": {
          "base_uri": "https://localhost:8080/"
        },
        "id": "LsVg9Wf2CGL3",
        "outputId": "1072bd76-35b5-49ee-ec44-f8498c981afb"
      },
      "outputs": [
        {
          "data": {
            "text/plain": [
              "True"
            ]
          },
          "execution_count": 70,
          "metadata": {},
          "output_type": "execute_result"
        }
      ],
      "source": [
        "dog in G.terminals"
      ]
    },
    {
      "cell_type": "markdown",
      "metadata": {
        "id": "-ojHdLHUCGL4"
      },
      "source": [
        "Finally we can easily access all the binary rules and all the unary rules in the grammar:"
      ]
    },
    {
      "cell_type": "code",
      "execution_count": null,
      "metadata": {
        "colab": {
          "base_uri": "https://localhost:8080/"
        },
        "id": "Bv6pcFS1CGL4",
        "outputId": "f1173c26-df9c-4de6-aeca-f213ad1cbf1c"
      },
      "outputs": [
        {
          "data": {
            "text/plain": [
              "[[N] -> 'dog' (1.0), [Det] -> 'the' (1.0), [VP] -> 'walks' (1.0)]"
            ]
          },
          "execution_count": 71,
          "metadata": {},
          "output_type": "execute_result"
        }
      ],
      "source": [
        "G.unary_rules"
      ]
    },
    {
      "cell_type": "code",
      "execution_count": null,
      "metadata": {
        "colab": {
          "base_uri": "https://localhost:8080/"
        },
        "id": "dYpJIx4mCGL4",
        "outputId": "b58b0d6a-efc4-4df0-96e0-6133b579a524"
      },
      "outputs": [
        {
          "data": {
            "text/plain": [
              "[[S] -> [NP] [VP] (1.0), [NP] -> [Det] [N] (1.0)]"
            ]
          },
          "execution_count": 72,
          "metadata": {},
          "output_type": "execute_result"
        }
      ],
      "source": [
        "G.binary_rules"
      ]
    },
    {
      "cell_type": "markdown",
      "metadata": {
        "id": "7ZdbicfrCGL5"
      },
      "source": [
        "------\n",
        "For the following sections you will need to have the Natural Language Toolkit ([NLTK](http://www.nltk.org/)) installed. We will use a feature of the NLTK toolkit that lets you draw constituency parses. Details for download can be found here: http://www.nltk.org/install.html.\n",
        "\n",
        "----------\n",
        "\n",
        "\n",
        "\n",
        "# Visualizing a tree\n",
        "\n",
        "For the sake of legacy let's reiterate an age-old NLP schtick, the well-known example of structural ambiguity from the Groucho Marx movie, [Animal Crackers](https://youtu.be/FZUfhfHbjE4?t=1m33s) (1930):\n",
        "\n",
        "> One morning I shot an elephant in my pajamas. How he got into my pajamas, I don't know.\n",
        "\n",
        "Let's take a closer look at the ambiguity in the phrase: _I shot an elephant in my pajamas_. The ambiguity is caused by the fact that the sentence has two competing parses represented in:\n",
        "\n",
        "    (S (NP I) (VP (VP (V shot) (NP (Det an) (N elephant))) (PP (P in) (NP (Det my) (N pajamas)))))\n",
        "\n",
        "and\n",
        "\n",
        "    (S (NP I) (VP (V shot) (NP (Det an) (NP (N elephant) (PP (P in) (NP (Det my) (N pajamas)))))))\n",
        "\n",
        "\n",
        "We can write these parses down as strings and then let NLTK turn them into trees using the NLTK `Tree` class. (See http://www.nltk.org/api/nltk.html#nltk.tree.Tree as reference for this class, if you want to know more.)"
      ]
    },
    {
      "cell_type": "code",
      "execution_count": null,
      "metadata": {
        "id": "dDFH2wyqCGL5"
      },
      "outputs": [],
      "source": [
        "parse1 = \"(S (NP I) (VP (VP (V shot) (NP (Det an) (N elephant))) (PP (P in) (NP (Det my) (N pajamas)))))\"\n",
        "parse2 = \"(S (NP I) (VP (V shot) (NP (Det an) (NP (N elephant) (PP (P in) (NP (Det my) (N pajamas)))))))\"\n",
        "\n",
        "pajamas1 = Tree.fromstring(parse1)\n",
        "pajamas2 = Tree.fromstring(parse2)"
      ]
    },
    {
      "cell_type": "markdown",
      "metadata": {
        "id": "EjQ_EvhHCGL5"
      },
      "source": [
        "We can then *pretty-print* these trees:"
      ]
    },
    {
      "cell_type": "code",
      "execution_count": null,
      "metadata": {
        "colab": {
          "base_uri": "https://localhost:8080/"
        },
        "id": "kSsl34LCCGL6",
        "outputId": "d76241c8-57b6-40b5-cd57-a85fa3d2d4c9"
      },
      "outputs": [
        {
          "name": "stdout",
          "output_type": "stream",
          "text": [
            "     S                                       \n",
            "  ___|______________                          \n",
            " |                  VP                       \n",
            " |         _________|__________               \n",
            " |        VP                   PP            \n",
            " |    ____|___              ___|___           \n",
            " |   |        NP           |       NP        \n",
            " |   |     ___|_____       |    ___|_____     \n",
            " NP  V   Det        N      P  Det        N   \n",
            " |   |    |         |      |   |         |    \n",
            " I  shot  an     elephant  in  my     pajamas\n",
            "\n",
            "     S                                       \n",
            "  ___|__________                              \n",
            " |              VP                           \n",
            " |    __________|______                       \n",
            " |   |                 NP                    \n",
            " |   |     ____________|___                   \n",
            " |   |    |                NP                \n",
            " |   |    |      __________|___               \n",
            " |   |    |     |              PP            \n",
            " |   |    |     |       _______|___           \n",
            " |   |    |     |      |           NP        \n",
            " |   |    |     |      |        ___|_____     \n",
            " NP  V   Det    N      P      Det        N   \n",
            " |   |    |     |      |       |         |    \n",
            " I  shot  an elephant  in      my     pajamas\n",
            "\n"
          ]
        }
      ],
      "source": [
        "pajamas1.pretty_print()\n",
        "pajamas2.pretty_print()"
      ]
    },
    {
      "cell_type": "markdown",
      "metadata": {
        "id": "8UjAkmuXCGL7"
      },
      "source": [
        "# Parsing with CKY"
      ]
    },
    {
      "cell_type": "markdown",
      "metadata": {
        "id": "A8pVcXseCGL8"
      },
      "source": [
        "Let's stick with this sentence for the rest of this lab. We will use CKY to find the 'best' parse for this sentence."
      ]
    },
    {
      "cell_type": "code",
      "execution_count": null,
      "metadata": {
        "id": "GWkI8S1kCGL8"
      },
      "outputs": [],
      "source": [
        "# Turn the sentence into a list\n",
        "sentence = \"I shot an elephant in my pajamas\".split()\n",
        "# The length of the sentence\n",
        "num_words = len(sentence)"
      ]
    },
    {
      "cell_type": "markdown",
      "metadata": {
        "id": "qtehwdb1CGL8"
      },
      "source": [
        "A PCFG for this sentence can be found in the file `groucho-grammar-1.txt`. We read this in with the function `read_grammar_rules`."
      ]
    },
    {
      "cell_type": "code",
      "execution_count": null,
      "metadata": {
        "id": "eVASx2r0CGL9"
      },
      "outputs": [],
      "source": [
        "def read_grammar_rules(istream):\n",
        "    \"\"\"Reads grammar rules formatted as 'LHS ||| RHS ||| PROB'.\"\"\"\n",
        "    for line in istream:\n",
        "        line = line.strip()\n",
        "        if not line:\n",
        "            continue\n",
        "        fields = line.split('|||')\n",
        "        if len(fields) != 3:\n",
        "            raise ValueError('I expected 3 fields: %s', fields)\n",
        "        lhs = fields[0].strip()\n",
        "\n",
        "        if lhs[0] == '[':\n",
        "            lhs = Nonterminal(lhs[1:-1])\n",
        "        else:\n",
        "            lhs = Terminal(lhs)\n",
        "        rhs = fields[1].strip().split()\n",
        "        new_rhs = []\n",
        "        for r in rhs:\n",
        "            if r[0] == '[':\n",
        "                r = Nonterminal(r[1:-1])\n",
        "            else:\n",
        "                r = Terminal(r)\n",
        "            new_rhs.append(r)\n",
        "\n",
        "        prob = float(fields[2].strip())\n",
        "        yield Rule(lhs, new_rhs, prob)"
      ]
    },
    {
      "cell_type": "code",
      "execution_count": null,
      "metadata": {
        "colab": {
          "base_uri": "https://localhost:8080/"
        },
        "id": "2UP_-I5XCGL9",
        "outputId": "7f93cb81-2684-480a-d11b-f9604176ed32",
        "scrolled": false
      },
      "outputs": [
        {
          "name": "stdout",
          "output_type": "stream",
          "text": [
            "The grammar:\n",
            " [S] -> [NP] [VP] (1.0)\n",
            "[PP] -> [P] [NP] (1.0)\n",
            "[NP] -> [Det] [N] (0.2)\n",
            "[NP] -> [Det] [NP] (0.3)\n",
            "[NP] -> [N] [PP] (0.3)\n",
            "[NP] -> 'I' (0.2)\n",
            "[VP] -> [V] [NP] (0.4)\n",
            "[VP] -> [VP] [PP] (0.6)\n",
            "[Det] -> 'an' (0.6)\n",
            "[Det] -> 'my' (0.4)\n",
            "[N] -> 'elephant' (0.5)\n",
            "[N] -> 'pajamas' (0.5)\n",
            "[V] -> 'shot' (1.0)\n",
            "[P] -> 'in' (1.0) \n",
            "\n"
          ]
        }
      ],
      "source": [
        "# Read in the grammar\n",
        "istream = open('groucho-grammar-1.txt')\n",
        "grammar = PCFG(read_grammar_rules(istream))\n",
        "print(\"The grammar:\\n\", grammar, \"\\n\")"
      ]
    },
    {
      "cell_type": "markdown",
      "metadata": {
        "id": "LRecCE1RCGL-"
      },
      "source": [
        "We will also need the following two dictionaries: `nonterminal2index` mapping from nonterminals to integers (indices); and its inverse, an `index2nonterminal` dictionary."
      ]
    },
    {
      "cell_type": "code",
      "execution_count": null,
      "metadata": {
        "colab": {
          "base_uri": "https://localhost:8080/"
        },
        "id": "yjPcYJQuCGL-",
        "outputId": "0e3ed731-d9b7-4038-812d-af1bbc4871b2"
      },
      "outputs": [
        {
          "data": {
            "text/plain": [
              "{Nonterminal('Det'): 1,\n",
              " Nonterminal('NP'): 2,\n",
              " Nonterminal('N'): 3,\n",
              " Nonterminal('PP'): 7,\n",
              " Nonterminal('P'): 5,\n",
              " Nonterminal('S'): 6,\n",
              " Nonterminal('VP'): 4,\n",
              " Nonterminal('V'): 0}"
            ]
          },
          "execution_count": 78,
          "metadata": {},
          "output_type": "execute_result"
        }
      ],
      "source": [
        "num_nonterminals = len(grammar.nonterminals)\n",
        "\n",
        "# Make a nonterminal2index and a index2nonterminal dictionary\n",
        "n2i = defaultdict(lambda: len(n2i))\n",
        "i2n = dict()\n",
        "for A in grammar.nonterminals:\n",
        "    i2n[n2i[A]] = A\n",
        "\n",
        "# Stop defaultdict behavior of n2i\n",
        "n2i = dict(n2i)\n",
        "\n",
        "n2i"
      ]
    },
    {
      "cell_type": "markdown",
      "metadata": {
        "id": "5x_4Mb1xCGL-"
      },
      "source": [
        "## The charts\n",
        "\n",
        "Now we are ready to introduce the chart datastructures. We need a chart to store the **scores** and a chart to store the **backpointers**.\n",
        "\n",
        "Both of these will be 3-dimensional numpy arrays: one named `score` (also named `table` in J&M) holding the probabilities of intermediate results; one named `back` to store the backpointers in. We will use the following indexing convention for these charts:\n",
        "\n",
        "* Format for the chart holding the **scores**: \n",
        "\n",
        "         score[A][begin][end] = probability   (naming as in slides)\n",
        "         table[A][i][j] = probability         (naming as in J&M) \n",
        "         \n",
        "* Format for the chart holding the **backpointers**:\n",
        "\n",
        "         back[A][begin][end] = (split,B,C)    (naming as in slides)\n",
        "         back[A][i][j] = (k,B,C)              (naming as in J&M) \n",
        "         \n",
        "\n",
        "This indexing convention is convenient for printing. See what happens when we print `back` below: we get `num_nonterminal` slices, each a numpy array of shape `[n_words+1, n_words+1]`. This is easier to read than the format `table[i][j][A]`.\n",
        "\n",
        "**[Note]** Here we pretended `A` is both the nonterminal as well as the index. In actual fact, in our implementation `A` will be the nonterminal and the index for `A` will be `n2i[A]`."
      ]
    },
    {
      "cell_type": "markdown",
      "metadata": {
        "id": "pCtGbwpQCGL-"
      },
      "source": [
        "Let's show you what we mean:"
      ]
    },
    {
      "cell_type": "code",
      "execution_count": null,
      "metadata": {
        "id": "tqNdJjfrCGL-",
        "scrolled": true
      },
      "outputs": [],
      "source": [
        "# A numpy array zeros\n",
        "score = np.zeros((num_nonterminals,\n",
        "                  num_words + 1, \n",
        "                  num_words + 1))\n",
        "\n",
        "# A numpy array that can store arbitrary data (we set dtype to object)\n",
        "back = np.zeros((num_nonterminals,\n",
        "                 num_words + 1, \n",
        "                 num_words + 1), dtype=object)"
      ]
    },
    {
      "cell_type": "markdown",
      "metadata": {
        "id": "H0YJ227uCGL-"
      },
      "source": [
        "The following illustrates the way you will use the `back` chart. In this example, your parser recognized that the words between 0 and 2 form an NP and the words between 2 and the end of the sentence form a VP (and nothing else yet):"
      ]
    },
    {
      "cell_type": "code",
      "execution_count": null,
      "metadata": {
        "colab": {
          "base_uri": "https://localhost:8080/"
        },
        "id": "r7KOKnTuCGL_",
        "outputId": "434826bd-81a8-43e0-a1ba-bd0a568c249a",
        "scrolled": true
      },
      "outputs": [
        {
          "data": {
            "text/plain": [
              "array([[[0, 0, 0, 0, 0, 0, 0, 0],\n",
              "        [0, 0, 0, 0, 0, 0, 0, 0],\n",
              "        [0, 0, 0, 0, 0, 0, 0, 0],\n",
              "        [0, 0, 0, 0, 0, 0, 0, 0],\n",
              "        [0, 0, 0, 0, 0, 0, 0, 0],\n",
              "        [0, 0, 0, 0, 0, 0, 0, 0],\n",
              "        [0, 0, 0, 0, 0, 0, 0, 0],\n",
              "        [0, 0, 0, 0, 0, 0, 0, 0]],\n",
              "\n",
              "       [[0, 0, 0, 0, 0, 0, 0, 0],\n",
              "        [0, 0, 0, 0, 0, 0, 0, 0],\n",
              "        [0, 0, 0, 0, 0, 0, 0, 0],\n",
              "        [0, 0, 0, 0, 0, 0, 0, 0],\n",
              "        [0, 0, 0, 0, 0, 0, 0, 0],\n",
              "        [0, 0, 0, 0, 0, 0, 0, 0],\n",
              "        [0, 0, 0, 0, 0, 0, 0, 0],\n",
              "        [0, 0, 0, 0, 0, 0, 0, 0]],\n",
              "\n",
              "       [[0, 0, 0, 0, 0, 0, 0, 0],\n",
              "        [0, 0, 0, 0, 0, 0, 0, 0],\n",
              "        [0, 0, 0, 0, 0, 0, 0, 0],\n",
              "        [0, 0, 0, 0, 0, 0, 0, 0],\n",
              "        [0, 0, 0, 0, 0, 0, 0, 0],\n",
              "        [0, 0, 0, 0, 0, 0, 0, 0],\n",
              "        [0, 0, 0, 0, 0, 0, 0, 0],\n",
              "        [0, 0, 0, 0, 0, 0, 0, 0]],\n",
              "\n",
              "       [[0, 0, 0, 0, 0, 0, 0, 0],\n",
              "        [0, 0, 0, 0, 0, 0, 0, 0],\n",
              "        [0, 0, 0, 0, 0, 0, 0, 0],\n",
              "        [0, 0, 0, 0, 0, 0, 0, 0],\n",
              "        [0, 0, 0, 0, 0, 0, 0, 0],\n",
              "        [0, 0, 0, 0, 0, 0, 0, 0],\n",
              "        [0, 0, 0, 0, 0, 0, 0, 0],\n",
              "        [0, 0, 0, 0, 0, 0, 0, 0]],\n",
              "\n",
              "       [[0, 0, 0, 0, 0, 0, 0, 0],\n",
              "        [0, 0, 0, 0, 0, 0, 0, 0],\n",
              "        [0, 0, 0, 0, 0, 0, 0, 0],\n",
              "        [0, 0, 0, 0, 0, 0, 0, 0],\n",
              "        [0, 0, 0, 0, 0, 0, 0, 0],\n",
              "        [0, 0, 0, 0, 0, 0, 0, 0],\n",
              "        [0, 0, 0, 0, 0, 0, 0, 0],\n",
              "        [0, 0, 0, 0, 0, 0, 0, 0]],\n",
              "\n",
              "       [[0, 0, 0, 0, 0, 0, 0, 0],\n",
              "        [0, 0, 0, 0, 0, 0, 0, 0],\n",
              "        [0, 0, 0, 0, 0, 0, 0, 0],\n",
              "        [0, 0, 0, 0, 0, 0, 0, 0],\n",
              "        [0, 0, 0, 0, 0, 0, 0, 0],\n",
              "        [0, 0, 0, 0, 0, 0, 0, 0],\n",
              "        [0, 0, 0, 0, 0, 0, 0, 0],\n",
              "        [0, 0, 0, 0, 0, 0, 0, 0]],\n",
              "\n",
              "       [[0, 0, 0, 0, 0, 0, 0, (2, Nonterminal('NP'), Nonterminal('VP'))],\n",
              "        [0, 0, 0, 0, 0, 0, 0, 0],\n",
              "        [0, 0, 0, 0, 0, 0, 0, 0],\n",
              "        [0, 0, 0, 0, 0, 0, 0, 0],\n",
              "        [0, 0, 0, 0, 0, 0, 0, 0],\n",
              "        [0, 0, 0, 0, 0, 0, 0, 0],\n",
              "        [0, 0, 0, 0, 0, 0, 0, 0],\n",
              "        [0, 0, 0, 0, 0, 0, 0, 0]],\n",
              "\n",
              "       [[0, 0, 0, 0, 0, 0, 0, 0],\n",
              "        [0, 0, 0, 0, 0, 0, 0, 0],\n",
              "        [0, 0, 0, 0, 0, 0, 0, 0],\n",
              "        [0, 0, 0, 0, 0, 0, 0, 0],\n",
              "        [0, 0, 0, 0, 0, 0, 0, 0],\n",
              "        [0, 0, 0, 0, 0, 0, 0, 0],\n",
              "        [0, 0, 0, 0, 0, 0, 0, 0],\n",
              "        [0, 0, 0, 0, 0, 0, 0, 0]]], dtype=object)"
            ]
          },
          "execution_count": 80,
          "metadata": {},
          "output_type": "execute_result"
        }
      ],
      "source": [
        "# Illustration of the backpointer array\n",
        "back[n2i[S]][0][-1] = (2,NP,VP) \n",
        "back"
      ]
    },
    {
      "cell_type": "markdown",
      "metadata": {
        "id": "vkUx3Mc5CGL_"
      },
      "source": [
        "## Exercise 1. (80 points)\n",
        "\n",
        "Implement the **CKY** algorithm. Follow the pseudo-code given in the lecture-slides (or alternatively in J&M). The code must comply to the following:\n",
        "\n",
        "* The function `cky` takes a sentence (list of words) a grammar (an instance of PCFG) and a n2i nonterminals2index dictionary.\n",
        "* The function `cky` returns the filled-in score-chart and backpointer-chart, following the format established above.\n",
        "\n",
        "**[Hint]** This is the moment to make good use of the methods of the classes `PCFG`, `Rule`, `Nonterminal`, and `Terminal`!"
      ]
    },
    {
      "cell_type": "code",
      "execution_count": null,
      "metadata": {
        "id": "6Kq23wsvCGL_"
      },
      "outputs": [],
      "source": [
        "def cky(sentence, grammar, n2i):\n",
        "    \"\"\"\n",
        "    The CKY algorithm.\n",
        "    \n",
        "    Follow the pseudocode from the slides (or J&M).\n",
        "    \n",
        "    :param sentence: a list of words\n",
        "    :param grammar: an instance of the class PCFG\n",
        "    :param n2i: a dictionary mapping from Nonterminals to indices\n",
        "    :return score: the filled in scores chart\n",
        "    :return back: the filled in backpointers chart \n",
        "    \"\"\"\n",
        "    num_words = len(sentence)\n",
        "    num_nonterminals = len(grammar.nonterminals)\n",
        "    \n",
        "    # A numpy array to store the scores of intermediate parses\n",
        "    score = np.zeros((num_nonterminals,\n",
        "                  num_words + 1, \n",
        "                  num_words + 1))\n",
        "\n",
        "    # A numpy array to store the backpointers\n",
        "    back = np.zeros((num_nonterminals,\n",
        "                     num_words + 1, \n",
        "                     num_words + 1), dtype=object)\n",
        "    \n",
        "    #YOUR CODE HERE\n",
        "    for i in range(0, num_words):\n",
        "        for rule in grammar.unary_rules:\n",
        "            if rule.rhs[0].obj == sentence[i]:\n",
        "                score[n2i[rule.lhs]][i][i + 1] = rule.prob\n",
        "                back[n2i[rule.lhs]][i][i + 1] = rule.rhs[0]\n",
        "    for span in range(2, num_words + 1):\n",
        "        for begin in range(0, num_words - span + 1):\n",
        "            end = span + begin\n",
        "            for split in range(begin + 1, end):\n",
        "                for rule in grammar.binary_rules:\n",
        "                    N = rule.lhs\n",
        "                    P = rule.rhs[0]\n",
        "                    Q = rule.rhs[1]\n",
        "                    prob = score[n2i[P]][begin][split] * score[n2i[Q]][split][end] * rule.prob\n",
        "                    if prob > score[n2i[N]][begin][end]:\n",
        "                        score[n2i[N]][begin][end] = prob\n",
        "                        back[n2i[N]][begin][end] = (split, P, Q)\n",
        "    return score, back"
      ]
    },
    {
      "cell_type": "code",
      "execution_count": null,
      "metadata": {
        "colab": {
          "base_uri": "https://localhost:8080/"
        },
        "id": "DdyvogQICGMA",
        "outputId": "370a5a8f-e10b-4a47-b2a5-dc18e56fa885"
      },
      "outputs": [
        {
          "name": "stdout",
          "output_type": "stream",
          "text": [
            "[[[0.000e+00 0.000e+00 0.000e+00 0.000e+00 0.000e+00 0.000e+00 0.000e+00\n",
            "   0.000e+00]\n",
            "  [0.000e+00 0.000e+00 1.000e+00 0.000e+00 0.000e+00 0.000e+00 0.000e+00\n",
            "   0.000e+00]\n",
            "  [0.000e+00 0.000e+00 0.000e+00 0.000e+00 0.000e+00 0.000e+00 0.000e+00\n",
            "   0.000e+00]\n",
            "  [0.000e+00 0.000e+00 0.000e+00 0.000e+00 0.000e+00 0.000e+00 0.000e+00\n",
            "   0.000e+00]\n",
            "  [0.000e+00 0.000e+00 0.000e+00 0.000e+00 0.000e+00 0.000e+00 0.000e+00\n",
            "   0.000e+00]\n",
            "  [0.000e+00 0.000e+00 0.000e+00 0.000e+00 0.000e+00 0.000e+00 0.000e+00\n",
            "   0.000e+00]\n",
            "  [0.000e+00 0.000e+00 0.000e+00 0.000e+00 0.000e+00 0.000e+00 0.000e+00\n",
            "   0.000e+00]\n",
            "  [0.000e+00 0.000e+00 0.000e+00 0.000e+00 0.000e+00 0.000e+00 0.000e+00\n",
            "   0.000e+00]]\n",
            "\n",
            " [[0.000e+00 0.000e+00 0.000e+00 0.000e+00 0.000e+00 0.000e+00 0.000e+00\n",
            "   0.000e+00]\n",
            "  [0.000e+00 0.000e+00 0.000e+00 0.000e+00 0.000e+00 0.000e+00 0.000e+00\n",
            "   0.000e+00]\n",
            "  [0.000e+00 0.000e+00 0.000e+00 6.000e-01 0.000e+00 0.000e+00 0.000e+00\n",
            "   0.000e+00]\n",
            "  [0.000e+00 0.000e+00 0.000e+00 0.000e+00 0.000e+00 0.000e+00 0.000e+00\n",
            "   0.000e+00]\n",
            "  [0.000e+00 0.000e+00 0.000e+00 0.000e+00 0.000e+00 0.000e+00 0.000e+00\n",
            "   0.000e+00]\n",
            "  [0.000e+00 0.000e+00 0.000e+00 0.000e+00 0.000e+00 0.000e+00 4.000e-01\n",
            "   0.000e+00]\n",
            "  [0.000e+00 0.000e+00 0.000e+00 0.000e+00 0.000e+00 0.000e+00 0.000e+00\n",
            "   0.000e+00]\n",
            "  [0.000e+00 0.000e+00 0.000e+00 0.000e+00 0.000e+00 0.000e+00 0.000e+00\n",
            "   0.000e+00]]\n",
            "\n",
            " [[0.000e+00 2.000e-01 0.000e+00 0.000e+00 0.000e+00 0.000e+00 0.000e+00\n",
            "   0.000e+00]\n",
            "  [0.000e+00 0.000e+00 0.000e+00 0.000e+00 0.000e+00 0.000e+00 0.000e+00\n",
            "   0.000e+00]\n",
            "  [0.000e+00 0.000e+00 0.000e+00 0.000e+00 6.000e-02 0.000e+00 0.000e+00\n",
            "   1.080e-03]\n",
            "  [0.000e+00 0.000e+00 0.000e+00 0.000e+00 0.000e+00 0.000e+00 0.000e+00\n",
            "   6.000e-03]\n",
            "  [0.000e+00 0.000e+00 0.000e+00 0.000e+00 0.000e+00 0.000e+00 0.000e+00\n",
            "   0.000e+00]\n",
            "  [0.000e+00 0.000e+00 0.000e+00 0.000e+00 0.000e+00 0.000e+00 0.000e+00\n",
            "   4.000e-02]\n",
            "  [0.000e+00 0.000e+00 0.000e+00 0.000e+00 0.000e+00 0.000e+00 0.000e+00\n",
            "   0.000e+00]\n",
            "  [0.000e+00 0.000e+00 0.000e+00 0.000e+00 0.000e+00 0.000e+00 0.000e+00\n",
            "   0.000e+00]]\n",
            "\n",
            " [[0.000e+00 0.000e+00 0.000e+00 0.000e+00 0.000e+00 0.000e+00 0.000e+00\n",
            "   0.000e+00]\n",
            "  [0.000e+00 0.000e+00 0.000e+00 0.000e+00 0.000e+00 0.000e+00 0.000e+00\n",
            "   0.000e+00]\n",
            "  [0.000e+00 0.000e+00 0.000e+00 0.000e+00 0.000e+00 0.000e+00 0.000e+00\n",
            "   0.000e+00]\n",
            "  [0.000e+00 0.000e+00 0.000e+00 0.000e+00 5.000e-01 0.000e+00 0.000e+00\n",
            "   0.000e+00]\n",
            "  [0.000e+00 0.000e+00 0.000e+00 0.000e+00 0.000e+00 0.000e+00 0.000e+00\n",
            "   0.000e+00]\n",
            "  [0.000e+00 0.000e+00 0.000e+00 0.000e+00 0.000e+00 0.000e+00 0.000e+00\n",
            "   0.000e+00]\n",
            "  [0.000e+00 0.000e+00 0.000e+00 0.000e+00 0.000e+00 0.000e+00 0.000e+00\n",
            "   5.000e-01]\n",
            "  [0.000e+00 0.000e+00 0.000e+00 0.000e+00 0.000e+00 0.000e+00 0.000e+00\n",
            "   0.000e+00]]\n",
            "\n",
            " [[0.000e+00 0.000e+00 0.000e+00 0.000e+00 0.000e+00 0.000e+00 0.000e+00\n",
            "   0.000e+00]\n",
            "  [0.000e+00 0.000e+00 0.000e+00 0.000e+00 2.400e-02 0.000e+00 0.000e+00\n",
            "   5.760e-04]\n",
            "  [0.000e+00 0.000e+00 0.000e+00 0.000e+00 0.000e+00 0.000e+00 0.000e+00\n",
            "   0.000e+00]\n",
            "  [0.000e+00 0.000e+00 0.000e+00 0.000e+00 0.000e+00 0.000e+00 0.000e+00\n",
            "   0.000e+00]\n",
            "  [0.000e+00 0.000e+00 0.000e+00 0.000e+00 0.000e+00 0.000e+00 0.000e+00\n",
            "   0.000e+00]\n",
            "  [0.000e+00 0.000e+00 0.000e+00 0.000e+00 0.000e+00 0.000e+00 0.000e+00\n",
            "   0.000e+00]\n",
            "  [0.000e+00 0.000e+00 0.000e+00 0.000e+00 0.000e+00 0.000e+00 0.000e+00\n",
            "   0.000e+00]\n",
            "  [0.000e+00 0.000e+00 0.000e+00 0.000e+00 0.000e+00 0.000e+00 0.000e+00\n",
            "   0.000e+00]]\n",
            "\n",
            " [[0.000e+00 0.000e+00 0.000e+00 0.000e+00 0.000e+00 0.000e+00 0.000e+00\n",
            "   0.000e+00]\n",
            "  [0.000e+00 0.000e+00 0.000e+00 0.000e+00 0.000e+00 0.000e+00 0.000e+00\n",
            "   0.000e+00]\n",
            "  [0.000e+00 0.000e+00 0.000e+00 0.000e+00 0.000e+00 0.000e+00 0.000e+00\n",
            "   0.000e+00]\n",
            "  [0.000e+00 0.000e+00 0.000e+00 0.000e+00 0.000e+00 0.000e+00 0.000e+00\n",
            "   0.000e+00]\n",
            "  [0.000e+00 0.000e+00 0.000e+00 0.000e+00 0.000e+00 1.000e+00 0.000e+00\n",
            "   0.000e+00]\n",
            "  [0.000e+00 0.000e+00 0.000e+00 0.000e+00 0.000e+00 0.000e+00 0.000e+00\n",
            "   0.000e+00]\n",
            "  [0.000e+00 0.000e+00 0.000e+00 0.000e+00 0.000e+00 0.000e+00 0.000e+00\n",
            "   0.000e+00]\n",
            "  [0.000e+00 0.000e+00 0.000e+00 0.000e+00 0.000e+00 0.000e+00 0.000e+00\n",
            "   0.000e+00]]\n",
            "\n",
            " [[0.000e+00 0.000e+00 0.000e+00 0.000e+00 4.800e-03 0.000e+00 0.000e+00\n",
            "   1.152e-04]\n",
            "  [0.000e+00 0.000e+00 0.000e+00 0.000e+00 0.000e+00 0.000e+00 0.000e+00\n",
            "   0.000e+00]\n",
            "  [0.000e+00 0.000e+00 0.000e+00 0.000e+00 0.000e+00 0.000e+00 0.000e+00\n",
            "   0.000e+00]\n",
            "  [0.000e+00 0.000e+00 0.000e+00 0.000e+00 0.000e+00 0.000e+00 0.000e+00\n",
            "   0.000e+00]\n",
            "  [0.000e+00 0.000e+00 0.000e+00 0.000e+00 0.000e+00 0.000e+00 0.000e+00\n",
            "   0.000e+00]\n",
            "  [0.000e+00 0.000e+00 0.000e+00 0.000e+00 0.000e+00 0.000e+00 0.000e+00\n",
            "   0.000e+00]\n",
            "  [0.000e+00 0.000e+00 0.000e+00 0.000e+00 0.000e+00 0.000e+00 0.000e+00\n",
            "   0.000e+00]\n",
            "  [0.000e+00 0.000e+00 0.000e+00 0.000e+00 0.000e+00 0.000e+00 0.000e+00\n",
            "   0.000e+00]]\n",
            "\n",
            " [[0.000e+00 0.000e+00 0.000e+00 0.000e+00 0.000e+00 0.000e+00 0.000e+00\n",
            "   0.000e+00]\n",
            "  [0.000e+00 0.000e+00 0.000e+00 0.000e+00 0.000e+00 0.000e+00 0.000e+00\n",
            "   0.000e+00]\n",
            "  [0.000e+00 0.000e+00 0.000e+00 0.000e+00 0.000e+00 0.000e+00 0.000e+00\n",
            "   0.000e+00]\n",
            "  [0.000e+00 0.000e+00 0.000e+00 0.000e+00 0.000e+00 0.000e+00 0.000e+00\n",
            "   0.000e+00]\n",
            "  [0.000e+00 0.000e+00 0.000e+00 0.000e+00 0.000e+00 0.000e+00 0.000e+00\n",
            "   4.000e-02]\n",
            "  [0.000e+00 0.000e+00 0.000e+00 0.000e+00 0.000e+00 0.000e+00 0.000e+00\n",
            "   0.000e+00]\n",
            "  [0.000e+00 0.000e+00 0.000e+00 0.000e+00 0.000e+00 0.000e+00 0.000e+00\n",
            "   0.000e+00]\n",
            "  [0.000e+00 0.000e+00 0.000e+00 0.000e+00 0.000e+00 0.000e+00 0.000e+00\n",
            "   0.000e+00]]]\n",
            "[[[0 0 0 0 0 0 0 0]\n",
            "  [0 0 Terminal('shot') 0 0 0 0 0]\n",
            "  [0 0 0 0 0 0 0 0]\n",
            "  [0 0 0 0 0 0 0 0]\n",
            "  [0 0 0 0 0 0 0 0]\n",
            "  [0 0 0 0 0 0 0 0]\n",
            "  [0 0 0 0 0 0 0 0]\n",
            "  [0 0 0 0 0 0 0 0]]\n",
            "\n",
            " [[0 0 0 0 0 0 0 0]\n",
            "  [0 0 0 0 0 0 0 0]\n",
            "  [0 0 0 Terminal('an') 0 0 0 0]\n",
            "  [0 0 0 0 0 0 0 0]\n",
            "  [0 0 0 0 0 0 0 0]\n",
            "  [0 0 0 0 0 0 Terminal('my') 0]\n",
            "  [0 0 0 0 0 0 0 0]\n",
            "  [0 0 0 0 0 0 0 0]]\n",
            "\n",
            " [[0 Terminal('I') 0 0 0 0 0 0]\n",
            "  [0 0 0 0 0 0 0 0]\n",
            "  [0 0 0 0 (3, Nonterminal('Det'), Nonterminal('N')) 0 0\n",
            "   (3, Nonterminal('Det'), Nonterminal('NP'))]\n",
            "  [0 0 0 0 0 0 0 (4, Nonterminal('N'), Nonterminal('PP'))]\n",
            "  [0 0 0 0 0 0 0 0]\n",
            "  [0 0 0 0 0 0 0 (6, Nonterminal('Det'), Nonterminal('N'))]\n",
            "  [0 0 0 0 0 0 0 0]\n",
            "  [0 0 0 0 0 0 0 0]]\n",
            "\n",
            " [[0 0 0 0 0 0 0 0]\n",
            "  [0 0 0 0 0 0 0 0]\n",
            "  [0 0 0 0 0 0 0 0]\n",
            "  [0 0 0 0 Terminal('elephant') 0 0 0]\n",
            "  [0 0 0 0 0 0 0 0]\n",
            "  [0 0 0 0 0 0 0 0]\n",
            "  [0 0 0 0 0 0 0 Terminal('pajamas')]\n",
            "  [0 0 0 0 0 0 0 0]]\n",
            "\n",
            " [[0 0 0 0 0 0 0 0]\n",
            "  [0 0 0 0 (2, Nonterminal('V'), Nonterminal('NP')) 0 0\n",
            "   (4, Nonterminal('VP'), Nonterminal('PP'))]\n",
            "  [0 0 0 0 0 0 0 0]\n",
            "  [0 0 0 0 0 0 0 0]\n",
            "  [0 0 0 0 0 0 0 0]\n",
            "  [0 0 0 0 0 0 0 0]\n",
            "  [0 0 0 0 0 0 0 0]\n",
            "  [0 0 0 0 0 0 0 0]]\n",
            "\n",
            " [[0 0 0 0 0 0 0 0]\n",
            "  [0 0 0 0 0 0 0 0]\n",
            "  [0 0 0 0 0 0 0 0]\n",
            "  [0 0 0 0 0 0 0 0]\n",
            "  [0 0 0 0 0 Terminal('in') 0 0]\n",
            "  [0 0 0 0 0 0 0 0]\n",
            "  [0 0 0 0 0 0 0 0]\n",
            "  [0 0 0 0 0 0 0 0]]\n",
            "\n",
            " [[0 0 0 0 (1, Nonterminal('NP'), Nonterminal('VP')) 0 0\n",
            "   (1, Nonterminal('NP'), Nonterminal('VP'))]\n",
            "  [0 0 0 0 0 0 0 0]\n",
            "  [0 0 0 0 0 0 0 0]\n",
            "  [0 0 0 0 0 0 0 0]\n",
            "  [0 0 0 0 0 0 0 0]\n",
            "  [0 0 0 0 0 0 0 0]\n",
            "  [0 0 0 0 0 0 0 0]\n",
            "  [0 0 0 0 0 0 0 0]]\n",
            "\n",
            " [[0 0 0 0 0 0 0 0]\n",
            "  [0 0 0 0 0 0 0 0]\n",
            "  [0 0 0 0 0 0 0 0]\n",
            "  [0 0 0 0 0 0 0 0]\n",
            "  [0 0 0 0 0 0 0 (5, Nonterminal('P'), Nonterminal('NP'))]\n",
            "  [0 0 0 0 0 0 0 0]\n",
            "  [0 0 0 0 0 0 0 0]\n",
            "  [0 0 0 0 0 0 0 0]]]\n"
          ]
        }
      ],
      "source": [
        "# Run CKY\n",
        "score, back = cky(sentence, grammar, n2i)\n",
        "print(score)\n",
        "print(back)"
      ]
    },
    {
      "cell_type": "markdown",
      "metadata": {
        "id": "Y-RR3hKxCGMA"
      },
      "source": [
        "### Check your CKY\n",
        "\n",
        "Use the code in the following two cell to check your `cky` implementation.\n",
        "\n",
        "Take the Nonterminal `S` to inspect your filled in score and backpointer charts. **Leave the code in this cell unchanged.** We will use this to evaluate the corectness of your cky function."
      ]
    },
    {
      "cell_type": "code",
      "execution_count": null,
      "metadata": {
        "colab": {
          "base_uri": "https://localhost:8080/"
        },
        "id": "gBvi4nElCGMB",
        "outputId": "adaaf6c4-1f45-44d8-d069-005b36f53582"
      },
      "outputs": [
        {
          "name": "stdout",
          "output_type": "stream",
          "text": [
            "The whole slice for nonterminal S:\n",
            "[[0.        0.        0.        0.        0.0048    0.        0.\n",
            "  0.0001152]\n",
            " [0.        0.        0.        0.        0.        0.        0.\n",
            "  0.       ]\n",
            " [0.        0.        0.        0.        0.        0.        0.\n",
            "  0.       ]\n",
            " [0.        0.        0.        0.        0.        0.        0.\n",
            "  0.       ]\n",
            " [0.        0.        0.        0.        0.        0.        0.\n",
            "  0.       ]\n",
            " [0.        0.        0.        0.        0.        0.        0.\n",
            "  0.       ]\n",
            " [0.        0.        0.        0.        0.        0.        0.\n",
            "  0.       ]\n",
            " [0.        0.        0.        0.        0.        0.        0.\n",
            "  0.       ]] \n",
            "\n",
            "The score in cell (S, 0, num_words), which is the probability of the best parse:\n",
            "0.00011520000000000004 \n",
            "\n",
            "The backpointer in cell (S, 0, num_words):\n",
            "(1, Nonterminal('NP'), Nonterminal('VP')) \n",
            "\n"
          ]
        }
      ],
      "source": [
        "### Don't change the code in this cell. ###\n",
        "\n",
        "S = Nonterminal('S')\n",
        "\n",
        "print('The whole slice for nonterminal S:')\n",
        "print(score[n2i[S]], \"\\n\")\n",
        "\n",
        "print('The score in cell (S, 0, num_words), which is the probability of the best parse:')\n",
        "print(score[n2i[S]][0][num_words], \"\\n\")\n",
        "\n",
        "print('The backpointer in cell (S, 0, num_words):')\n",
        "print(back[n2i[S]][0][num_words], \"\\n\")"
      ]
    },
    {
      "cell_type": "markdown",
      "metadata": {
        "id": "SFo5ehEACGMC"
      },
      "source": [
        "## Exercise 2. (20 points)\n",
        "\n",
        "Write the function `build_tree` that reconstructs the parse from the backpointer table. This is the function that is called in the return statement of the pseudo-code in Jurafsky and Martin.\n",
        "\n",
        "**[Note]** This is a challenging exercise! And we have no pseudocode for you here: you must come up with your own implementation. On the other hand, it will also constitute just the last 20 points of your your grade, so don't worry too much if can't finish it. If you finished exercise 1 you already have an 8 for this lab!\n",
        "\n",
        "Here is some additional advice:\n",
        " \n",
        "* Use recursion - that is write your function in a recursive way.  \n",
        "What is the base case? Hint: $A \\to w$.  \n",
        "What is the recursive case? Hint: $A \\to B\\; C$.\n",
        "    \n",
        "    \n",
        "* Use the additional class `Span` that we introduce below for the symbols in your recovered rules. Read the documentation in the `Span` class for its usage.\n",
        "    \n",
        "    \n",
        "* If you want to use the function `make_nltk_tree` that we provide (and that turns a `derivation` into an NLTK tree so that you can draw it) your function must return the <font color=\"red\">**list of rules in derivation ordered [depth-first](https://en.wikipedia.org/wiki/Depth-first_search)**</font>. If you write your function recursively such order can be achieved easily. \n",
        "    "
      ]
    },
    {
      "cell_type": "markdown",
      "metadata": {
        "id": "FyYrjUP9CGMC"
      },
      "source": [
        "The following class will be very useful in your solution for the function `build_tree`."
      ]
    },
    {
      "cell_type": "code",
      "execution_count": null,
      "metadata": {
        "id": "Ty0jbFeuCGMD"
      },
      "outputs": [],
      "source": [
        "class Span(Symbol):\n",
        "    \"\"\"\n",
        "    A Span indicates that symbol was recognized between begin and end.\n",
        "    \n",
        "    Example:\n",
        "        Span(Terminal('the'), 0, 1)\n",
        "            This means: we found 'the' in the sentence between 0 and 1\n",
        "        Span(Nonterminal('NP'), 4, 8) represents NP:4-8\n",
        "            This means: we found an NP that covers the part of the sentence between 4 and 8\n",
        "    \n",
        "    Thus, Span holds a Terminal or a Nonterminal and wraps it between two integers. \n",
        "    This makes it possible to distinguish between two instances of the same rule in the derrivation.\n",
        "    Example:\n",
        "        We can find that the rule NP -> Det N is used twice in the parse derivation. But that in the first\n",
        "        case it spans \"an elephant\" and in the second case it spans \"my pajamas\". We want to distinguis these. \n",
        "        So: \"an elephant\" is covered by [NP]:2-4 -> [Det]:2-3 [N]:3-4\n",
        "            \"my pajamas\" is covered by [NP]:5-7 -> [Det]:5-6 [N]:6-7\n",
        "        \n",
        "    Internally, we represent spans with tuples of the kind (symbol, start, end).\n",
        "    \"\"\"\n",
        "\n",
        "    def __init__(self, symbol, start, end):\n",
        "        assert isinstance(symbol, Symbol), 'A span takes an instance of Symbol, got %s' % type(symbol)\n",
        "        self._symbol = symbol\n",
        "        self._start = start\n",
        "        self._end = end\n",
        "\n",
        "    def is_terminal(self):\n",
        "        # a span delegates this to an underlying symbol\n",
        "        return self._symbol.is_terminal()\n",
        "\n",
        "    def root(self):\n",
        "        # Spans are hierarchical symbols, thus we delegate\n",
        "        return self._symbol.root()\n",
        "\n",
        "    def obj(self):\n",
        "        \"\"\"The underlying python tuple (Symbol, start, end)\"\"\"\n",
        "        return (self._symbol, self._start, self._end)\n",
        "\n",
        "    def translate(self, target):\n",
        "        return Span(self._symbol.translate(target), self._start, self._end)\n",
        "\n",
        "    def __str__(self):\n",
        "        \"\"\"Prints Symbol with span if Symbol is Nonterminal else without (purely aesthetic distinction)\"\"\"\n",
        "        if self.is_terminal():\n",
        "            return \"%s\" % (self._symbol)\n",
        "        else: \n",
        "            return \"%s:%s-%s\" % (self._symbol, self._start, self._end)\n",
        "        \n",
        "    def __repr__(self):\n",
        "        return 'Span(%r, %r, %r)' % (self._symbol, self._start, self._end)\n",
        "\n",
        "    def __hash__(self):\n",
        "        return hash((self._symbol, self._start, self._end))\n",
        "\n",
        "    def __eq__(self, other):\n",
        "        return type(self) == type(other) and self._symbol == other._symbol and self._start == other._start and self._end == other._end\n",
        "\n",
        "    def __ne__(self, other):\n",
        "        return not (self == other)\n"
      ]
    },
    {
      "cell_type": "markdown",
      "metadata": {
        "id": "gW5SsW6sCGMD"
      },
      "source": [
        "Example usage of `Span`:"
      ]
    },
    {
      "cell_type": "code",
      "execution_count": null,
      "metadata": {
        "colab": {
          "base_uri": "https://localhost:8080/"
        },
        "id": "xwn43NFYCGME",
        "outputId": "2aa55164-1dc2-49e4-f27b-eeb29ea820aa"
      },
      "outputs": [
        {
          "name": "stdout",
          "output_type": "stream",
          "text": [
            "[S]:0-10\n",
            "'dog'\n",
            "[NP]:2-4 -> [Det]:2-3 [NP]:3-4 (None)\n"
          ]
        }
      ],
      "source": [
        "span_S = Span(S, 0, 10)\n",
        "print(span_S)\n",
        "span_S = Span(dog, 4, 5)\n",
        "print(span_S)\n",
        "\n",
        "spanned_rule = Rule(Span(NP, 2, 4), [Span(Det, 2, 3), Span(NP, 3, 4)], prob=None)\n",
        "print(spanned_rule)"
      ]
    },
    {
      "cell_type": "markdown",
      "metadata": {
        "id": "U4ILGshOCGME"
      },
      "source": [
        "Your final derivation should look like this:\n",
        "\n",
        "![derivation-illustration.png](data:image/png;base64,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)  \n",
        "(Note that the rule probabilities are set to `None`. These are not saved in the backpointer chart so cannot be retrieved at the recovering stage. They also don't matter at this point, so you can set them to `None`.)\n",
        "\n",
        "If you give this derivation to the function `make_nltk_tree` and then let NLTK draw it, then you get this tree:\n",
        "\n",
        "![span-illustration.png](data:image/png;base64,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)"
      ]
    },
    {
      "cell_type": "markdown",
      "metadata": {
        "id": "m3tD8G4MCGMF"
      },
      "source": [
        "### The exercise"
      ]
    },
    {
      "cell_type": "code",
      "execution_count": null,
      "metadata": {
        "id": "n5iPPQ9kCGMF"
      },
      "outputs": [],
      "source": [
        "def build_tree(back, sentence, root, n2i):\n",
        "    \"\"\"\n",
        "    Reconstruct the viterbi parse from a filled-in backpointer chart.\n",
        "    \n",
        "    It returns a list called derivation which holds the rules over Spans.\n",
        "    If you want to use the function make_nltk_tree you must make sure that\n",
        "    the order in derivation follows the depth-first order.\n",
        "    \n",
        "    :param back: a backpointer chart of shape [num_nonterminals, num_words+1, num_words+1]\n",
        "    :param sentence: a list of words\n",
        "    :param root: the root symbol of the tree: Nonterminal('S')\n",
        "    :param n2i: the dictionary mapping from Nonterminals to indices\n",
        "    :return derivation: a derivation: a list of Rules with Span symbols that generate the Viterbi tree. \n",
        "                        If you want to draw them with the function that we provide, then this list \n",
        "                        should be ordered depth first!\n",
        "    \"\"\"\n",
        "    derivation = []\n",
        "    num_words = len(sentence)\n",
        "\n",
        "    #YOUR CODE HERE\n",
        "    def cycle(start_1, start, end):\n",
        "        back_point = back[n2i[start_1]][start][end]\n",
        "        if isinstance(back_point, tuple):\n",
        "            split = back_point[0]\n",
        "            start_2 = back_point[1]\n",
        "            end_2 = back_point[2]\n",
        "            derivation.append(Rule(Span(start_1, start, end), [Span(start_2, start, split), Span(end_2, split, end)], prob=None))\n",
        "            cycle(start_2, start, split)\n",
        "            cycle(end_2, split, end)\n",
        "        else:\n",
        "            derivation.append(Rule(Span(start_1, start, end), [Span(back_point, start, end)], prob=None))\n",
        "    \n",
        "    start = 0\n",
        "    end = num_words\n",
        "    back_point = back[n2i[root]][start][end]\n",
        "    \n",
        "    split = back_point[0]\n",
        "    start_1 = back_point[1]\n",
        "    end_1 = back_point[2]\n",
        "    derivation.append(Rule(Span(root, start, end), [Span(start_1, start, split),Span(end_1, split, end)], prob=None))\n",
        "    \n",
        "    \n",
        "    cycle(start_1, start, split)\n",
        "    cycle(end_1, split, end)\n",
        "    \n",
        "    return derivation"
      ]
    },
    {
      "cell_type": "markdown",
      "metadata": {
        "id": "6C-x98b5CGMG"
      },
      "source": [
        "Get your derivation:"
      ]
    },
    {
      "cell_type": "code",
      "execution_count": null,
      "metadata": {
        "colab": {
          "base_uri": "https://localhost:8080/"
        },
        "id": "_ZCWB9n8CGMG",
        "outputId": "08443b1f-5e19-4493-d63b-ee7c78323eef"
      },
      "outputs": [
        {
          "data": {
            "text/plain": [
              "[[S]:0-7 -> [NP]:0-1 [VP]:1-7 (None),\n",
              " [NP]:0-1 -> 'I' (None),\n",
              " [VP]:1-7 -> [VP]:1-4 [PP]:4-7 (None),\n",
              " [VP]:1-4 -> [V]:1-2 [NP]:2-4 (None),\n",
              " [V]:1-2 -> 'shot' (None),\n",
              " [NP]:2-4 -> [Det]:2-3 [N]:3-4 (None),\n",
              " [Det]:2-3 -> 'an' (None),\n",
              " [N]:3-4 -> 'elephant' (None),\n",
              " [PP]:4-7 -> [P]:4-5 [NP]:5-7 (None),\n",
              " [P]:4-5 -> 'in' (None),\n",
              " [NP]:5-7 -> [Det]:5-6 [N]:6-7 (None),\n",
              " [Det]:5-6 -> 'my' (None),\n",
              " [N]:6-7 -> 'pajamas' (None)]"
            ]
          },
          "execution_count": 107,
          "metadata": {},
          "output_type": "execute_result"
        }
      ],
      "source": [
        "derivation = build_tree(back, sentence, S, n2i)\n",
        "derivation"
      ]
    },
    {
      "cell_type": "markdown",
      "metadata": {
        "id": "Gmfwfk2-CGMG"
      },
      "source": [
        "Turn the derivation into an NLTK tree:"
      ]
    },
    {
      "cell_type": "code",
      "execution_count": null,
      "metadata": {
        "colab": {
          "base_uri": "https://localhost:8080/"
        },
        "id": "OKPgJ9q5CGMG",
        "outputId": "2a01827c-acd6-4ed3-fbd4-7d1a4cdb3987"
      },
      "outputs": [
        {
          "name": "stdout",
          "output_type": "stream",
          "text": [
            "         [S]:0-7                                                                   \n",
            "    ________|___________________________                                            \n",
            "   |                                 [VP]:1-7                                      \n",
            "   |                  __________________|__________________                         \n",
            "   |              [VP]:1-4                              [PP]:4-7                   \n",
            "   |         ________|________                     ________|________                \n",
            "   |        |              [NP]:2-4               |              [NP]:5-7          \n",
            "   |        |         ________|_________          |         ________|_________      \n",
            "[NP]:0-1 [V]:1-2 [Det]:2-3           [N]:3-4   [P]:4-5 [Det]:5-6           [N]:6-7 \n",
            "   |        |        |                  |         |        |                  |     \n",
            "  'I'     'shot'    'an'            'elephant'   'in'     'my'            'pajamas'\n",
            "\n"
          ]
        }
      ],
      "source": [
        "def make_nltk_tree(derivation):\n",
        "    \"\"\"\n",
        "    Return a NLTK Tree object based on the derivation\n",
        "    (list or tuple of Rules)\n",
        "    \"\"\"\n",
        "    d = defaultdict(None, ((r.lhs, r.rhs) for r in derivation))\n",
        "\n",
        "    def make_tree(lhs):\n",
        "        return Tree(str(lhs), (str(child) if child not in d else make_tree(child) for child in d[lhs]))\n",
        "\n",
        "    return make_tree(derivation[0].lhs)\n",
        "\n",
        "tree = make_nltk_tree(derivation)\n",
        "tree.pretty_print()"
      ]
    },
    {
      "cell_type": "markdown",
      "metadata": {
        "id": "7KpnoxfjCGMH"
      },
      "source": [
        "# That's it!\n",
        "\n",
        "Congratulations, you have made it to the end of the lab.\n",
        "\n",
        "**Make sure all your cells are executed so that all your answers are there. Then, continue if you're interested!**\n",
        "\n",
        "----\n",
        "\n",
        "# Optional\n",
        "\n",
        "If you managed to get your entire CKY-parser working and have an appetite for more, it might be fun to try it on some more sentences and grammars. Give the grammars below a try!"
      ]
    },
    {
      "cell_type": "markdown",
      "metadata": {
        "id": "bQXFftl-CGMH"
      },
      "source": [
        "### Alternative Groucho-grammar\n",
        "\n",
        "If you change the probabilities in the grammar, you'll get a different parse as the most likely one. Compare `groucho-grammar-1.txt` with `groucho-grammar-2.txt` and spot the difference in probabilities."
      ]
    },
    {
      "cell_type": "code",
      "execution_count": null,
      "metadata": {
        "colab": {
          "base_uri": "https://localhost:8080/"
        },
        "id": "EmKzOKOrCGMH",
        "outputId": "876d1000-052f-4192-9bec-3c33228dc5ac"
      },
      "outputs": [
        {
          "name": "stdout",
          "output_type": "stream",
          "text": [
            "[S] -> [NP] [VP] (1.0)\n",
            "[PP] -> [P] [NP] (1.0)\n",
            "[NP] -> [Det] [N] (0.2)\n",
            "[NP] -> [Det] [NP] (0.3)\n",
            "[NP] -> [N] [PP] (0.3)\n",
            "[NP] -> 'I' (0.2)\n",
            "[VP] -> [V] [NP] (0.6)\n",
            "[VP] -> [VP] [PP] (0.4)\n",
            "[Det] -> 'an' (0.6)\n",
            "[Det] -> 'my' (0.4)\n",
            "[N] -> 'elephant' (0.5)\n",
            "[N] -> 'pajamas' (0.5)\n",
            "[V] -> 'shot' (1.0)\n",
            "[P] -> 'in' (1.0)\n",
            "         [S]:0-7                                                                    \n",
            "    ________|__________________                                                      \n",
            "   |                        [VP]:1-7                                                \n",
            "   |         __________________|_________                                            \n",
            "   |        |                         [NP]:2-7                                      \n",
            "   |        |         ___________________|________                                   \n",
            "   |        |        |                         [NP]:3-7                             \n",
            "   |        |        |          __________________|_________                         \n",
            "   |        |        |         |                         [PP]:4-7                   \n",
            "   |        |        |         |          __________________|________                \n",
            "   |        |        |         |         |                        [NP]:5-7          \n",
            "   |        |        |         |         |                   ________|_________      \n",
            "[NP]:0-1 [V]:1-2 [Det]:2-3  [N]:3-4   [P]:4-5           [Det]:5-6           [N]:6-7 \n",
            "   |        |        |         |         |                  |                  |     \n",
            "  'I'     'shot'    'an'   'elephant'   'in'               'my'            'pajamas'\n",
            "\n"
          ]
        }
      ],
      "source": [
        "#YOUR CODE HERE\n",
        "istream_2 = open('groucho-grammar-2.txt')\n",
        "grammar_2 = PCFG(read_grammar_rules(istream_2))\n",
        "print(grammar_2)\n",
        "\n",
        "score_2, back_2 = cky(sentence, grammar_2, n2i)\n",
        "derivation_2 = build_tree(back_2, sentence, S, n2i)\n",
        "tree_2 = make_nltk_tree(derivation_2)\n",
        "tree_2.pretty_print()"
      ]
    },
    {
      "cell_type": "markdown",
      "metadata": {
        "id": "O8TrGyQdk-Ih"
      },
      "source": [
        "**Difference**:"
      ]
    },
    {
      "cell_type": "markdown",
      "metadata": {
        "id": "WQvNMXcpCGMI"
      },
      "source": [
        "### The man with the telescope\n",
        "\n",
        "Another ambiguous sentence:\n",
        "\n",
        "> I saw the man on the hill with the telescope.\n",
        "\n",
        "A grammar for this sentence is specified in the file `telescope-grammar.txt`."
      ]
    },
    {
      "cell_type": "code",
      "execution_count": null,
      "metadata": {
        "colab": {
          "base_uri": "https://localhost:8080/"
        },
        "id": "saH1dFIkCGMI",
        "outputId": "24de1bed-a581-408a-b4cc-f3fee5478a1f"
      },
      "outputs": [
        {
          "name": "stdout",
          "output_type": "stream",
          "text": [
            "[S] -> [NP] [VP] (1.0)\n",
            "[VP] -> [V] [NP] (0.6)\n",
            "[VP] -> [VP] [PP] (0.4)\n",
            "[NP] -> [NP] [PP] (0.3)\n",
            "[NP] -> [Det] [N] (0.3)\n",
            "[NP] -> [Det] [NP] (0.2)\n",
            "[NP] -> 'I' (0.2)\n",
            "[PP] -> [P] [NP] (0.8)\n",
            "[PP] -> [PP] [PP] (0.2)\n",
            "[V] -> 'saw' (1.0)\n",
            "[Det] -> 'the' (1.0)\n",
            "[N] -> 'man' (0.4)\n",
            "[N] -> 'hill' (0.3)\n",
            "[N] -> 'telescope' (0.3)\n",
            "[P] -> 'on' (0.5)\n",
            "[P] -> 'with' (0.5)\n",
            "                                             [S]:0-10                                                                   \n",
            "    ____________________________________________|_________                                                               \n",
            "   |                                                  [VP]:1-10                                                         \n",
            "   |                                    __________________|__________________________________                            \n",
            "   |                                [VP]:1-7                                                 |                          \n",
            "   |                  _________________|__________________                                   |                           \n",
            "   |              [VP]:1-4                             [PP]:4-7                          [PP]:7-10                      \n",
            "   |         ________|________                   _________|________                  ________|_________                  \n",
            "   |        |              [NP]:2-4             |               [NP]:5-7            |              [NP]:8-10            \n",
            "   |        |         ________|________         |          ________|________        |         _________|__________       \n",
            "[NP]:0-1 [V]:1-2 [Det]:2-3          [N]:3-4  [P]:4-5  [Det]:5-6          [N]:6-7 [P]:7-8 [Det]:8-9             [N]:9-10 \n",
            "   |        |        |                 |        |         |                 |       |        |                    |      \n",
            "  'I'     'saw'    'the'             'man'     'on'     'the'             'hill'  'with'   'the'             'telescope'\n",
            "\n"
          ]
        }
      ],
      "source": [
        "#YOUR CODE HERE\n",
        "sentence_3 = \"I saw the man on the hill with the telescope\".split()\n",
        "\n",
        "istream_3 = open('telescope-grammar.txt')\n",
        "grammar_3 = PCFG(read_grammar_rules(istream_3))\n",
        "print(grammar_3)\n",
        "\n",
        "score_3, back_3 = cky(sentence_3, grammar_3, n2i)\n",
        "derivation_3 = build_tree(back_3, sentence_3, S, n2i)\n",
        "tree_3 = make_nltk_tree(derivation_3)\n",
        "tree_3.pretty_print()"
      ]
    }
  ],
  "metadata": {
    "celltoolbar": "Create Assignment",
    "colab": {
      "collapsed_sections": [],
      "name": "lab3_Xinhao",
      "provenance": []
    },
    "kernelspec": {
      "display_name": "Python 3 (ipykernel)",
      "language": "python",
      "name": "python3"
    },
    "language_info": {
      "codemirror_mode": {
        "name": "ipython",
        "version": 3
      },
      "file_extension": ".py",
      "mimetype": "text/x-python",
      "name": "python",
      "nbconvert_exporter": "python",
      "pygments_lexer": "ipython3",
      "version": "3.8.10"
    },
    "toc": {
      "base_numbering": 1,
      "nav_menu": {},
      "number_sections": true,
      "sideBar": true,
      "skip_h1_title": false,
      "title_cell": "Table of Contents",
      "title_sidebar": "Contents",
      "toc_cell": false,
      "toc_position": {},
      "toc_section_display": true,
      "toc_window_display": true
    }
  },
  "nbformat": 4,
  "nbformat_minor": 0
}
