{
 "cells": [
  {
   "cell_type": "markdown",
   "metadata": {
    "id": "2T1VPPavbw5t"
   },
   "source": [
    "*   Xinhao Lan(1082620)"
   ]
  },
  {
   "cell_type": "code",
   "execution_count": 2,
   "metadata": {
    "id": "C2rwddYbrYZi"
   },
   "outputs": [],
   "source": [
    "%matplotlib inline\n",
    "import matplotlib\n",
    "import numpy as np\n",
    "import matplotlib.pyplot as plt"
   ]
  },
  {
   "cell_type": "markdown",
   "metadata": {
    "id": "e1I7_qy2rYZl"
   },
   "source": [
    "# Lab 1: Text Corpora and Language Modelling\n",
    "\n",
    "Welcome to the first lab assignment of INFOMNLP 2022. \n",
    "\n",
    "This lab is meant to help you get familiar with some language data, and use this data to estimate simple models called N-gram language models.\n",
    "\n",
    "First you will use the **Penn Treebank**, which is a collection of newspaper articles from the newspaper \n",
    "The Wall Street Journal. The idea is to examine the data and notice interesting properties. This will not take more than a few lines of code. The Penn Treebank may be the most widely used corpus in NLP.\n",
    "\n",
    "Then you will use a corpus consisting of **TedX** talks. This you will use to estimate an **N-gram language model** for different orders of N, and use this this for some tasks.\n",
    "\n",
    "The datasets are on Blackboard. Download the zip and make sure to put the files in the same directory as the notebook.\n",
    "\n",
    "### Rules\n",
    "* The lab exercises should be made in **groups of two people**.\n",
    "\n",
    "* The assignment should submitted to **Blackboard** as `.ipynb`. Only **one submission per group**.\n",
    "\n",
    "* The **filename** should be `lab1_id1_id2.ipynb`.\n",
    " \n",
    "* The questions marked **Extra** or **Optional** are an additional challenge for those interested in going the extra mile. \n",
    "\n",
    "* We may not grade all sub-questions (instead, we may choose a sub-set and scale the points). However, solve them as if they were.\n",
    "\n",
    "Notes on implementation:\n",
    "\n",
    "* You should **write your code and answers in this iPython Notebook**. (See http://ipython.org/notebook.html for reference material.) If you have problems, please contact your teaching assistant.\n",
    "\n",
    "* Use only **one cell for code** and **one cell for markdown** answers!    \n",
    "\n",
    "    * Put all code in the cell with the `# YOUR CODE HERE` comment.\n",
    "    \n",
    "    * For theoretical questions, put your solution in the YOUR ANSWER HERE cell.\n",
    "    \n",
    "* Test your code and **make sure we can run your notebook**"
   ]
  },
  {
   "cell_type": "code",
   "execution_count": 3,
   "metadata": {
    "colab": {
     "base_uri": "https://localhost:8080/"
    },
    "id": "w-rmySJGvt0X",
    "outputId": "ab89cf27-f4d5-4e79-de1f-e6e0e9620fe4"
   },
   "outputs": [
    {
     "name": "stdout",
     "output_type": "stream",
     "text": [
      "Hello World!\n"
     ]
    }
   ],
   "source": [
    "print(\"Hello World!\")"
   ]
  },
  {
   "cell_type": "markdown",
   "metadata": {
    "id": "HYUkG7TKsAAi"
   },
   "source": [
    "# 1. Penn treebank"
   ]
  },
  {
   "cell_type": "markdown",
   "metadata": {
    "id": "flkRSFQtrYZo"
   },
   "source": [
    "\n",
    "\n",
    "## Exercise 1.1 \n",
    "(40 points, 5 points per subquestion )\n",
    "\n",
    "You are provided with a corpus containing words with their Part-of-Speech tags (POS-tags for short). The format is\n",
    "**word|POS** (one sentence per line) and the file name is **sec02-21.gold.tagged**. This data is extracted from Sections 02-21 from the Penn Treebank: these sections are most commonly used for training statistical models like POS-taggers and parsers.\n",
    "\n",
    "**[Hint]** **Figure 8.2** in chapter 8 of Jurafsky and Martin (see [here](https://web.stanford.edu/~jurafsky/slp3/8.pdf#page=4)) holds a summary of POS-tags used in the Penn Treebank tagset together with their meaning and some examples. (If you are keen on learning more about the word-classes represented POS-tags and their definitions you can do a little reading ahead for next week and already have a look at section 8.1 of the same chapter).\n",
    "\n",
    "**[Hint]** the Python library [collections](https://docs.python.org/3.7/library/collections.html) has an object called `Counter` which will come in handy for this exercise."
   ]
  },
  {
   "cell_type": "markdown",
   "metadata": {
    "id": "L_md_iporYZs"
   },
   "source": [
    "**(a)** How large is the corpus? (i.e. how **many tokens**). And what is the size of the **vocabulary** used in this corpus? \n",
    "\n",
    "Estimate the vocabulary size both by **lowercasing** all the words as well as by leaving the words in their **original orthography**. What is an advantage of lowercasing all the words in your corpus? What is a notable downside? **Give examples.**"
   ]
  },
  {
   "cell_type": "code",
   "execution_count": 3,
   "metadata": {
    "colab": {
     "base_uri": "https://localhost:8080/"
    },
    "id": "AWAr3U9WrYZt",
    "outputId": "433a709c-aea4-4555-9424-86627b0d4998"
   },
   "outputs": [
    {
     "name": "stdout",
     "output_type": "stream",
     "text": [
      "The total number of tokens is : 929552\n",
      "\n",
      "The size of the vocabulary with the original orthography and with POS is : 51643\n",
      "The size of the vocabulary with the original orthography and without POS is : 44210\n",
      "The size of the vocabulary with all words lowercased and with POS  is : 48233\n",
      "The size of the vocabulary with all words lowercased and without POS is : 39384\n"
     ]
    }
   ],
   "source": [
    "## YOUR CODE HERE ##\n",
    "from collections import Counter\n",
    "file = open('sec02-21.gold.tagged','r')\n",
    "count = 0\n",
    "Voc = []\n",
    "Voc_NoPos = []\n",
    "Voc_Lower = []\n",
    "Voc_NoPos_Lower = []\n",
    "for line in file:\n",
    "  count = count + len(line.split())\n",
    "  for word in line.split():\n",
    "    Voc.append(word)\n",
    "    Voc_NoPos.append(word.split(\"|\",1)[0])\n",
    "    Voc_Lower.append(word.lower())\n",
    "    Voc_NoPos_Lower.append(word.split(\"|\",1)[0].lower())\n",
    "print(\"The total number of tokens is :\", count)\n",
    "print(\"\")\n",
    "count_Voc = Counter()\n",
    "count_Voc_NoPos = Counter()\n",
    "count_Voc_Lower = Counter()\n",
    "count_Voc_NoPos_Lower = Counter()\n",
    "for word in Voc:\n",
    "  count_Voc[word]+=1\n",
    "print(\"The size of the vocabulary with the original orthography and with POS is :\", len(count_Voc))\n",
    "for word in Voc_NoPos:\n",
    "  count_Voc_NoPos[word]+=1\n",
    "print(\"The size of the vocabulary with the original orthography and without POS is :\", len(count_Voc_NoPos))\n",
    "for word in Voc_Lower:\n",
    "  count_Voc_Lower[word]+=1\n",
    "print(\"The size of the vocabulary with all words lowercased and with POS  is :\", len(count_Voc_Lower))\n",
    "for word in Voc_NoPos_Lower:\n",
    "  count_Voc_NoPos_Lower[word]+=1\n",
    "print(\"The size of the vocabulary with all words lowercased and without POS is :\", len(count_Voc_NoPos_Lower))"
   ]
  },
  {
   "cell_type": "markdown",
   "metadata": {
    "id": "E13K0qNmrYZt"
   },
   "source": [
    "**Advantages:** The first word in one sentence should be capitalized and the meaning of that sentence is not changed. For example, here are two sentences: **\"There is an apple.\"** and **\"I notice there is an apple.\"** The meaning of **\"There\"** and **\"there\"** is completely same and should be seen as the same word in this corpus.\n",
    "\n",
    "**Disadvantages:** Clearly, some words' meanings with capitalized letter are totally different from words without capitalized letter. Here are some examples:\n",
    "*   May(month) - may(probably); March - march; August - august.\n",
    "*   China(country) - china(porcelain); Japan - japan; Turkey - turkey.\n",
    "*   Green(name) - green(color); Black - black; King - king.\n",
    "\n"
   ]
  },
  {
   "cell_type": "markdown",
   "metadata": {
    "id": "1mihku_srYZu"
   },
   "source": [
    "------\n",
    "For the rest of this exercise <font color=\"red\">you should use the **original orthography**</font> of the data when answering the questions.\n",
    "\n",
    "------\n"
   ]
  },
  {
   "cell_type": "markdown",
   "metadata": {
    "id": "lNBuGhE4rYZv"
   },
   "source": [
    "**(b)** Plot a graph of word frequency versus rank of a word, in this corpus. Does this corpus obey **Zipf’s law**? For a better picture you might need to make the plot horizontally wide or consider an initial cutoff of ranked words. "
   ]
  },
  {
   "cell_type": "code",
   "execution_count": 4,
   "metadata": {
    "colab": {
     "base_uri": "https://localhost:8080/",
     "height": 297
    },
    "id": "rbCLoVfrrYZw",
    "outputId": "1b32abf4-7cc2-4645-d902-3edcc99352a6",
    "scrolled": true
   },
   "outputs": [
    {
     "data": {
      "image/png": "[encoded data removed]",
      "text/plain": [
       "<Figure size 432x288 with 1 Axes>"
      ]
     },
     "metadata": {
      "needs_background": "light"
     },
     "output_type": "display_data"
    }
   ],
   "source": [
    "## YOUR CODE HERE ##\n",
    "import numpy as np\n",
    "import operator\n",
    "Voc_Dict = dict(count_Voc)\n",
    "Voc_Dict_Sorted = (sorted(Voc_Dict.items(), key = operator.itemgetter(1)))[::-1]\n",
    "number = []\n",
    "rank = []\n",
    "wordRanked = []\n",
    "i = 1\n",
    "for key,value in Voc_Dict_Sorted:\n",
    "  number.append(value)\n",
    "  wordRanked.append(key)\n",
    "  rank.append(i)\n",
    "  i = i + 1\n",
    "\n",
    "fig,ax = plt.subplots()\n",
    "ax.scatter(rank, number)\n",
    "ax.set_xlabel(\"Rank of the word\")\n",
    "ax.set_ylabel(\"Total Number\")\n",
    "ax.set_title(\"Word Frequencies plot\")\n",
    "ax.grid(True)\n",
    "fig.tight_layout()\n",
    "plt.show()"
   ]
  },
  {
   "cell_type": "code",
   "execution_count": 7,
   "metadata": {
    "colab": {
     "base_uri": "https://localhost:8080/",
     "height": 297
    },
    "id": "zkgrEZ8mPVm8",
    "outputId": "38e18724-9a50-4440-a710-506db869abbe"
   },
   "outputs": [
    {
     "data": {
      "image/png": "[encoded data removed]",
      "text/plain": [
       "<Figure size 432x288 with 1 Axes>"
      ]
     },
     "metadata": {
      "needs_background": "light"
     },
     "output_type": "display_data"
    }
   ],
   "source": [
    "fig,ax = plt.subplots()\n",
    "ax.scatter(rank[:100], number[:100])\n",
    "ax.set_xlabel(\"Rank of the word\")\n",
    "ax.set_ylabel(\"Total Number\")\n",
    "ax.set_title(\"Word Frequencies plot\")\n",
    "ax.grid(True)\n",
    "fig.tight_layout()\n",
    "plt.show()"
   ]
  },
  {
   "cell_type": "markdown",
   "metadata": {
    "id": "I2IDJE4rQ73I"
   },
   "source": [
    "Zipf's law means that  *f x r ≈ k*. It is clear that this corpus obey Zipf’s law."
   ]
  },
  {
   "cell_type": "markdown",
   "metadata": {
    "id": "8t0T4X4jrYZx"
   },
   "source": [
    "**(c)** What are the **20 most common words** in the corpus and how often do they occur? What is the 50th most common word, the 100th and the 1000th and how often do they occur?"
   ]
  },
  {
   "cell_type": "code",
   "execution_count": 8,
   "metadata": {
    "colab": {
     "base_uri": "https://localhost:8080/"
    },
    "id": "S9qdep7ErYZy",
    "outputId": "f2381339-3426-4bb2-d0ea-c463e64b93fd"
   },
   "outputs": [
    {
     "name": "stdout",
     "output_type": "stream",
     "text": [
      "The 20 most common words in the corpus and their frequency are:\n",
      "[(',|,', 48310), ('the|DT', 40831), ('.|.', 38798), ('of|IN', 22778), ('to|TO', 21676), ('a|DT', 19151), ('and|CC', 15901), ('in|IN', 14852), (\"'s|POS\", 8023), ('for|IN', 7907), ('$|$', 7125), ('is|VBZ', 6891), ('The|DT', 6753), ('said|VBD', 5476), ('on|IN', 4965), ('%|NN', 4866), ('that|IN', 4719), ('it|PRP', 4639), ('by|IN', 4438), ('from|IN', 4437)]\n",
      "\n",
      "The 50th most common word and its frequency is: \n",
      "his|PRP$ 1688\n",
      "\n",
      "The 100th most common word and its frequency is: \n",
      "companies|NNS 817\n",
      "\n",
      "The 1000th most common word and its frequency is: \n",
      "pilots|NNS 106\n",
      "\n"
     ]
    }
   ],
   "source": [
    "## YOUR CODE HERE ##\n",
    "print(\"The 20 most common words in the corpus and their frequency are:\")\n",
    "print(count_Voc.most_common(20))\n",
    "print(\"\")\n",
    "print(\"The 50th most common word and its frequency is: \")\n",
    "print(str(wordRanked[49]) +\" \"+ str(number[49]) + \"\\n\")\n",
    "print(\"The 100th most common word and its frequency is: \")\n",
    "print(str(wordRanked[99]) +\" \"+ str(number[99]) + \"\\n\")\n",
    "print(\"The 1000th most common word and its frequency is: \")\n",
    "print(str(wordRanked[999]) +\" \"+ str(number[999]) + \"\\n\")"
   ]
  },
  {
   "cell_type": "markdown",
   "metadata": {
    "id": "vIiyxxXxSeE8"
   },
   "source": [
    "To be more clear, the 20 most common words in the corpus and their frequency  are:\n",
    "\n",
    "(',|,', 48310), ('the|DT', 40831), ('.|.', 38798), ('of|IN', 22778), ('to|TO', 21676), ('a|DT', 19151), ('and|CC', 15901), ('in|IN', 14852), (\"'s|POS\", 8023), ('for|IN', 7907), ('$|$', 7125), ('is|VBZ', 6891), ('The|DT', 6753), ('said|VBD', 5476), ('on|IN', 4965), ('%|NN', 4866), ('that|IN', 4719), ('it|PRP', 4639), ('by|IN', 4438), ('from|IN', 4437)"
   ]
  },
  {
   "cell_type": "markdown",
   "metadata": {
    "id": "QzB2ADfbrYZz"
   },
   "source": [
    "**(d)** How many different Part-of-speech tags are present in the corpus?"
   ]
  },
  {
   "cell_type": "code",
   "execution_count": 9,
   "metadata": {
    "colab": {
     "base_uri": "https://localhost:8080/"
    },
    "id": "-JeDJXdVrYZz",
    "outputId": "18a02a80-ca93-44c0-e1a9-a300f8bf2930",
    "scrolled": true
   },
   "outputs": [
    {
     "name": "stdout",
     "output_type": "stream",
     "text": [
      "The number of differnet Part-of-speech tags that are present in the corpus is: 48\n"
     ]
    }
   ],
   "source": [
    "## YOUR CODE HERE ##\n",
    "Pos = []\n",
    "for word in wordRanked:\n",
    "  Pos.append(word.split(\"|\",1)[1])\n",
    "    \n",
    "count_Pos = Counter()\n",
    "for word in Pos:\n",
    "  count_Pos[word] += 1\n",
    "    \n",
    "print(\"The number of differnet Part-of-speech tags that are present in the corpus is:\", len(count_Pos))"
   ]
  },
  {
   "cell_type": "markdown",
   "metadata": {
    "id": "-jMxkAuerYZ0"
   },
   "source": [
    "**(e)** Print a list of the **10 most commonly occurring POS tags** in the data. For each of these POS tags, what are the **3 most common words** that belong to that class?"
   ]
  },
  {
   "cell_type": "code",
   "execution_count": 10,
   "metadata": {
    "colab": {
     "base_uri": "https://localhost:8080/"
    },
    "id": "cVOPepfyrYZ0",
    "outputId": "c37700b5-3345-4401-dc5b-80d0a10eb1f8"
   },
   "outputs": [
    {
     "name": "stdout",
     "output_type": "stream",
     "text": [
      "The 10 most commonly occurring POS tags in the data are:  [('NNP', 11346), ('NN', 9509), ('JJ', 8042), ('NNS', 4950), ('CD', 4734), ('VBN', 2146), ('VB', 2101), ('VBG', 2033), ('VBD', 1618), ('RB', 1335)]\n",
      "\n",
      "3 most common words that belong to NNP Pos tag.\n",
      "Mr.\n",
      "U.S.\n",
      "Corp.\n",
      "\n",
      "3 most common words that belong to NN Pos tag.\n",
      "%\n",
      "company\n",
      "year\n",
      "\n",
      "3 most common words that belong to JJ Pos tag.\n",
      "new\n",
      "other\n",
      "last\n",
      "\n",
      "3 most common words that belong to NNS Pos tag.\n",
      "years\n",
      "shares\n",
      "sales\n",
      "\n",
      "3 most common words that belong to CD Pos tag.\n",
      "million\n",
      "billion\n",
      "one\n",
      "\n",
      "3 most common words that belong to VBN Pos tag.\n",
      "been\n",
      "expected\n",
      "made\n",
      "\n",
      "3 most common words that belong to VB Pos tag.\n",
      "be\n",
      "have\n",
      "make\n",
      "\n",
      "3 most common words that belong to VBG Pos tag.\n",
      "being\n",
      "including\n",
      "according\n",
      "\n",
      "3 most common words that belong to VBD Pos tag.\n",
      "said\n",
      "was\n",
      "were\n",
      "\n",
      "3 most common words that belong to RB Pos tag.\n",
      "n't\n",
      "also\n",
      "not\n"
     ]
    }
   ],
   "source": [
    "## YOUR CODE HERE ##\n",
    "print(\"The 10 most commonly occurring POS tags in the data are: \", count_Pos.most_common(10))\n",
    "for word in count_Pos.most_common(10):\n",
    "  tag = word[0]\n",
    "  t = 0\n",
    "  print(\"\\n3 most common words that belong to \" + tag + \" Pos tag.\")\n",
    "  for word in wordRanked:\n",
    "    if(word.split(\"|\",1)[1] == tag):\n",
    "      print(word.split(\"|\",1)[0])\n",
    "      t += 1\n",
    "      if(t==3):\n",
    "        break"
   ]
  },
  {
   "cell_type": "markdown",
   "metadata": {
    "id": "6sVT5HcwrYZ1"
   },
   "source": [
    "**(f)** A single word may have several POS-tags. For example, *record* can be a both a **noun** *(buy a record)* or a **verb** *(record a lecture)*. This make POS-tags extremely useful for **disambiguation**.\n",
    "\n",
    "What percentage(!) of the words in the vocabulary(!) is **ambiguous**? (i.e. have more than one POS tag?) What are the **10 most frequently shared POS tag pairs** (i.e. POS tag pairs that share most words)? Which words are **most ambiguous** (i.e. getting one of the largest sets(!) of POS tags)? Give 3-4 of them."
   ]
  },
  {
   "cell_type": "code",
   "execution_count": 11,
   "metadata": {
    "colab": {
     "base_uri": "https://localhost:8080/"
    },
    "id": "07G6br4LrYZ1",
    "outputId": "a8d26b2d-a3a1-4bfa-b0b8-e00015f33d60",
    "scrolled": true
   },
   "outputs": [
    {
     "name": "stdout",
     "output_type": "stream",
     "text": [
      "The percentage of the ambiguous words is:  11.53 %\n",
      "\n",
      "The 10 most frequently shared POS tag pairs are:  [('NNP-NN', 422), ('VBN-VBD', 407), ('JJ-NN', 406), ('VBD-VBN', 365), ('VB-VBP', 304), ('NN-VB', 271), ('NNS-VBZ', 266), ('NN-JJ', 256), ('VBG-NN', 173), ('NN-VBG', 142)]\n",
      "\n",
      "The 5 most ambiguous words are:  [('many', 7), ('down', 7), ('set', 7), ('open', 7)]\n"
     ]
    }
   ],
   "source": [
    "## YOUR CODE HERE ##\n",
    "Word_Same_Pos = []\n",
    "Word_Ambi = []\n",
    "for word in wordRanked:\n",
    "  Word_Same_Pos.append(word.split(\"|\",1)[0])\n",
    "count_Word_Same_Pos = Counter()\n",
    "for word in Word_Same_Pos:\n",
    "  count_Word_Same_Pos[word] += 1\n",
    "for word in Word_Same_Pos:\n",
    "  if((count_Word_Same_Pos[word] >= 2 )& (word not in Word_Ambi)):\n",
    "    Word_Ambi.append(word)\n",
    "print(\"The percentage of the ambiguous words is: \",round((len(Word_Ambi)/len(wordRanked))*100,2), \"%\\n\")\n",
    "\n",
    "Pos_Ami = []\n",
    "for word_1 in Word_Ambi:\n",
    "  tag =\"\"\n",
    "  for word in wordRanked:\n",
    "    if(word_1 == word.split(\"|\",1)[0]):\n",
    "      tag = tag + word.split(\"|\",1)[1] + \"-\"\n",
    "  tag = tag[:-1]\n",
    "  Pos_Ami.append(tag)\n",
    "\n",
    "count_Pos_Ami = Counter()\n",
    "for tag in Pos_Ami:\n",
    "  count_Pos_Ami[tag] +=1\n",
    "\n",
    "print(\"The 10 most frequently shared POS tag pairs are: \", count_Pos_Ami.most_common(10))\n",
    "print(\"\")\n",
    "print(\"The 5 most ambiguous words are: \", count_Word_Same_Pos.most_common(4))"
   ]
  },
  {
   "cell_type": "markdown",
   "metadata": {
    "id": "Km-hPnADrYZ1"
   },
   "source": [
    "**(g)**  Print 3-4 of these words with their multiple POS-tags. **Explain the ambiguities**? Use [Figure 8.2](https://web.stanford.edu/~jurafsky/slp3/8.pdf#page=4) mentioned above to interpret the POS-tags."
   ]
  },
  {
   "cell_type": "code",
   "execution_count": 12,
   "metadata": {
    "colab": {
     "base_uri": "https://localhost:8080/"
    },
    "id": "8f1FKW6mrYZ2",
    "outputId": "7d781613-c975-4a2d-a336-b0d021577b6c"
   },
   "outputs": [
    {
     "name": "stdout",
     "output_type": "stream",
     "text": [
      "Ambiguous Words  1   many\n",
      "JJ\n",
      "NN\n",
      "DT\n",
      "RB\n",
      "NP\n",
      "VB\n",
      "PDT\n",
      "Ambiguous Words  2   open\n",
      "JJ\n",
      "VB\n",
      "VBP\n",
      "RB\n",
      "NN\n",
      "RP\n",
      "VBZ\n",
      "Ambiguous Words  3   down\n",
      "RB\n",
      "RP\n",
      "IN\n",
      "JJ\n",
      "NN\n",
      "VBP\n",
      "RBR\n",
      "Ambiguous Words  4   set\n",
      "VBN\n",
      "VBD\n",
      "VB\n",
      "NN\n",
      "VBP\n",
      "VBZ\n",
      "JJ\n"
     ]
    }
   ],
   "source": [
    "## YOUR CODE HERE ##\n",
    "Ami_Word_List = ['many','open','down','set']\n",
    "i = 1\n",
    "for word_1 in Ami_Word_List:\n",
    "  print(\"Ambiguous Words \", i, \" \", word_1)\n",
    "  for word in wordRanked:\n",
    "    if word_1 == word.split(\"|\",1)[0]:\n",
    "      print(word.split(\"|\",1)[1])\n",
    "  i += 1\n"
   ]
  },
  {
   "cell_type": "markdown",
   "metadata": {
    "id": "KHD3I5zzFOaS"
   },
   "source": [
    "Ambiguous Words 1: **many**\n",
    "\n",
    "POS-tags: JJ, NN, DT, RB, NP, VB, PDT\n",
    "\n",
    "If the Pos-tag is **JJ**, example can be **\"There are many people.\"**.\n",
    "\n",
    "If the Pos-tag is **NN**, example can be **\"Trade is in the interest of the many.\"**."
   ]
  },
  {
   "cell_type": "markdown",
   "metadata": {
    "id": "DB2GdCzpFOzq"
   },
   "source": [
    "Ambiguous Words 2: **open**\n",
    "\n",
    "POS-tags: JJ, VB, VBP, RB, NN, RP, VBZ\n",
    "\n",
    "If the Pos-tag is **JJ**, example can be **\"An open door\"**.\n",
    "\n",
    "If the Pos-tag is **VB**, example can be **\"Open your door\"**.\n",
    "\n",
    "If the Pos-tag is **RB**, example can be **\"The pods broke open\"**."
   ]
  },
  {
   "cell_type": "markdown",
   "metadata": {
    "id": "d4KWrJiqFPRR"
   },
   "source": [
    "Ambiguous Words 3: **down**\n",
    "\n",
    "POS-tags: RB, RP, IN, JJ, NN, VBP, RBR\n",
    "\n",
    "If the Pos-tag is **RB**, example can be **\"She looked down\"**.\n",
    "\n",
    "If the Pos-tag is **JJ**, example can be **\"The down escalator\"**.\n",
    "\n",
    "If the Pos-tag is **IN**, example can be **\"Up and down the stairs\"**.\n"
   ]
  },
  {
   "cell_type": "markdown",
   "metadata": {
    "id": "i5xRd6VlFPng"
   },
   "source": [
    "Ambiguous Words 4: **set**\n",
    "\n",
    "POS-tags: VBN, VBD, VB, NN, VBP, VBZ, JJ\n",
    "\n",
    "If the Pos-tag is **VB**, example can be **\"They set the mug of tea down\"**.\n",
    "\n",
    "If the Pos-tag is **VBD**, example can be **\"They set the cup of tea down before\"**.\n",
    "\n",
    "If the Pos-tag is **NN**, example can be **\"A set of false teeth\"**.\n",
    "\n",
    "If the Pos-tag is **JJ**, example can be **\"There is no set procedure\"**."
   ]
  },
  {
   "cell_type": "markdown",
   "metadata": {
    "id": "aj2wUTl8OKd5"
   },
   "source": [
    "**Note:** Some examples are from Google translate"
   ]
  },
  {
   "cell_type": "markdown",
   "metadata": {
    "id": "mb5332zPrYZ3"
   },
   "source": [
    "**(h)** Ambiguous words do not account for a great percentage of the vocabulary. Yet they are among the most commonly occuring words of the English language. What **percentage of the dataset is ambiguous**?"
   ]
  },
  {
   "cell_type": "code",
   "execution_count": 13,
   "metadata": {
    "colab": {
     "base_uri": "https://localhost:8080/"
    },
    "id": "YjSod1BarYZ3",
    "outputId": "cd051dd9-d971-417a-8797-065ec619631d"
   },
   "outputs": [
    {
     "name": "stdout",
     "output_type": "stream",
     "text": [
      "The percentage of the dataset that is ambiguous is:  55.08 %\n"
     ]
    }
   ],
   "source": [
    "## YOUR CODE HERE ##\n",
    "Number_Ambi = 0\n",
    "for word in Voc_NoPos:\n",
    "    if word in Word_Ambi:\n",
    "        Number_Ambi = Number_Ambi + 1\n",
    "print(\"The percentage of the dataset that is ambiguous is: \", round((Number_Ambi/ len(Voc_NoPos))*100, 2), \"%\")"
   ]
  },
  {
   "cell_type": "markdown",
   "metadata": {
    "id": "s9fwBwWBrYZ3"
   },
   "source": [
    "## Exercise 1.2 \n",
    "(10 points, 5 per subquestion)"
   ]
  },
  {
   "cell_type": "markdown",
   "metadata": {
    "id": "fylhjVzNrYZ3"
   },
   "source": [
    "You are also provided with another file called **sec00.gold.tagged**. \n",
    "Section 00 of the Penn Treebank is typically used as development data."
   ]
  },
  {
   "cell_type": "markdown",
   "metadata": {
    "id": "cuc-e69XrYZ4"
   },
   "source": [
    "**(a)** What percentages of the **development vocabulary and data** are unseen? (i.e., token types and tokens that occur in the development data but not in the training data)? Percentages are calculated wrt the development vocabulary/data."
   ]
  },
  {
   "cell_type": "code",
   "execution_count": 14,
   "metadata": {
    "colab": {
     "base_uri": "https://localhost:8080/"
    },
    "id": "-2sHEZLDrYZ4",
    "outputId": "bbe36917-f2d7-4585-8616-56b211e20be7",
    "scrolled": false
   },
   "outputs": [
    {
     "name": "stdout",
     "output_type": "stream",
     "text": [
      "The percentages of unseen words with POS is:  4.36 %\n",
      "The percentage of unseen words without POS is:  3.8 %\n"
     ]
    }
   ],
   "source": [
    "## YOUR CODE HERE ##\n",
    "file_new = open('sec00.gold.tagged', 'r')\n",
    "Voc_Dev = []\n",
    "Voc_NoPos_Dev = []\n",
    "for line in file_new:\n",
    "  for word in line.split():\n",
    "    Voc_Dev.append(word)\n",
    "    Voc_NoPos_Dev.append(word.split(\"|\")[0])\n",
    "\n",
    "Number_Pos = 0\n",
    "wordRanked_Dev = []\n",
    "for i in range(len(Voc_Dev)):\n",
    "  if not(Voc_Dev[i] in wordRanked):\n",
    "    Number_Pos = Number_Pos + 1\n",
    "    wordRanked_Dev.append(Voc_Dev[i])\n",
    "print(\"The percentages of unseen words with POS is: \", round((Number_Pos/len(Voc_Dev))*100, 2), \"%\")\n",
    "\n",
    "\n",
    "wordRanked_NoPos =[]\n",
    "for word in wordRanked:\n",
    "  wordRanked_NoPos.append(word.split(\"|\")[0])\n",
    "    \n",
    "Number_NoPos = 0\n",
    "for i in range(len(Voc_NoPos_Dev)):\n",
    "  if not(Voc_NoPos_Dev[i] in wordRanked_NoPos):\n",
    "    Number_NoPos = Number_NoPos + 1\n",
    "print(\"The percentage of unseen words without POS is: \", round((Number_NoPos/len(Voc_NoPos_Dev))*100, 2), \"%\")\n"
   ]
  },
  {
   "cell_type": "markdown",
   "metadata": {
    "id": "2FcjkcU3rYZ4"
   },
   "source": [
    "**(b)** What are the three **POS tag categories** that the most **unseen words** belong to?"
   ]
  },
  {
   "cell_type": "code",
   "execution_count": null,
   "metadata": {
    "colab": {
     "base_uri": "https://localhost:8080/"
    },
    "id": "0n_f5TWRrYZ6",
    "outputId": "94186126-e7b9-4d11-ad16-5fc4cc54dbc7",
    "scrolled": true
   },
   "outputs": [
    {
     "name": "stdout",
     "output_type": "stream",
     "text": [
      "The three POS tag categories that the most unseen words belong to are: NNP , JJ , NN .\n"
     ]
    }
   ],
   "source": [
    "## YOUR CODE HERE ##\n",
    "tags_Dev = []\n",
    "for word in wordRanked_Dev:\n",
    "  tags_Dev.append(word.split(\"|\",1)[1])\n",
    "count_tags_Dev = Counter()\n",
    "for tag in tags_Dev:\n",
    "  count_tags_Dev[tag] += 1\n",
    "\n",
    "print(\"The three POS tag categories that the most unseen words belong to are:\",\n",
    "      count_tags_Dev.most_common(3)[0][0], ',' ,\n",
    "      count_tags_Dev.most_common(3)[1][0], ',' ,\n",
    "      count_tags_Dev.most_common(3)[2][0], '.')"
   ]
  },
  {
   "cell_type": "markdown",
   "metadata": {
    "id": "v58xPCQ-twb3"
   },
   "source": [
    "# 2. Language Models\n",
    "\n",
    "This part of the lab will be covered next week. If you have prior exposure to NLP, go ahead and finish this part! If you don't, start anyway, and this part will be clear after the lecture. \n",
    "\n",
    "Reference **chapter 3** of JM3 *Language Modeling with N-Grams*. \n",
    "\n",
    "----------\n",
    "\n",
    "Models that assign **probabilities** to **sequences of words** are called language **language\n",
    "modelels** or **LMs**. The simplest model that assigns probabilities to sentences and sequences of words is the **N-gram** model.\n",
    "\n",
    "Recall that an *N*-gram language model uses **conditional probabilities** of the form\n",
    "    \n",
    "$$P(w_k \\mid w_{k-N+1} \\dots w_{k-1})$$\n",
    "\n",
    "to **approximate** the full **joint probability**\n",
    "\n",
    "$$P(w_1 \\dots w_n)$$\n",
    "\n",
    "of a sequence of words $w_1 \\dots w_n$.\n",
    "\n",
    "The easiest way of obtaining estimates for the probabilities $P(w_k \\mid w_{k-N+1} \\dots w_{k-1})$ is to use the **maximum likelihood estimate** or **MLE**, a widely used statistical estimation method (https://en.wikipedia.org/wiki/Maximum_likelihood_estimation). You count and normalize:\n",
    "\n",
    "$$P_{MLE}(w_k \\mid w_{k-N+1} \\dots w_{k-1}) = \\frac{C(w_{k-N+1} \\dots w_{k-1} w_k)}{C(w_{k-N+1} \\dots w_{k-1})}.$$"
   ]
  },
  {
   "cell_type": "markdown",
   "metadata": {
    "id": "87W-_3oVrYZ6"
   },
   "source": [
    "## Exercise 2.1 \n",
    "(25 points, 15 and 10 for a and b)\n",
    "\n",
    "**(a) ** Complete the function `train_ngram` so that you can train a count-based $N$-gram language model on the data found in `data/ted-train.txt` and train this for $N=2,3,4$. \n",
    "\n",
    "**(b) ** Extend the function above so that it accepts a parameter `k` for optional add-$k$ smoothing. \n",
    "\n",
    "**[Datastructure hint]** If you store the smoothed language in a naive manner (that is, to store *all* the numbers separately) your datastructure will get huge! If $V$ is the vocabulary then the smoothed bigram model assigns probabilities to $|V|^2$ entries. If $|V|$ is around 80k, the naive way requires you to store more than 64 billion floats. Yet almost all of these are actually just $P(w_n|w_{n-1}) = \\frac{k}{N + k|V|}$, with $k$ the value with which you smooth and $N=C(w_{n-1})$. Think about how you use this fact to make your model work in practice."
   ]
  },
  {
   "cell_type": "markdown",
   "metadata": {
    "id": "g6WEQYU-rYZ6"
   },
   "source": [
    "**[Python hint]** The `collections` library has another useful datastructure: the `defaultdict`. Some example uses (learn more [here](https://realpython.com/python-defaultdict/) if needed):"
   ]
  },
  {
   "cell_type": "code",
   "execution_count": 5,
   "metadata": {
    "colab": {
     "base_uri": "https://localhost:8080/"
    },
    "id": "NvVfC_jsrYZ6",
    "outputId": "272b7a99-bfe2-410f-d781-4c634399c746",
    "scrolled": true
   },
   "outputs": [
    {
     "data": {
      "text/plain": [
       "0.0"
      ]
     },
     "execution_count": 5,
     "metadata": {},
     "output_type": "execute_result"
    }
   ],
   "source": [
    "from collections import defaultdict\n",
    "\n",
    "d = defaultdict(float)\n",
    "d[\"new key\"]"
   ]
  },
  {
   "cell_type": "markdown",
   "metadata": {
    "id": "4Ev63zS7rYZ7"
   },
   "source": [
    "Compare that to an ordinary dictionary:"
   ]
  },
  {
   "cell_type": "code",
   "execution_count": null,
   "metadata": {
    "colab": {
     "base_uri": "https://localhost:8080/",
     "height": 186
    },
    "id": "kjEP9hbwrYZ8",
    "outputId": "c11d9c05-e9c7-485c-e4d8-b15951aa426f"
   },
   "outputs": [
    {
     "ename": "KeyError",
     "evalue": "ignored",
     "output_type": "error",
     "traceback": [
      "\u001b[0;31m---------------------------------------------------------------------------\u001b[0m",
      "\u001b[0;31mKeyError\u001b[0m                                  Traceback (most recent call last)",
      "\u001b[0;32m<ipython-input-15-b8ace26bc60b>\u001b[0m in \u001b[0;36m<module>\u001b[0;34m()\u001b[0m\n\u001b[1;32m      1\u001b[0m \u001b[0md\u001b[0m \u001b[0;34m=\u001b[0m \u001b[0mdict\u001b[0m\u001b[0;34m(\u001b[0m\u001b[0;34m)\u001b[0m\u001b[0;34m\u001b[0m\u001b[0;34m\u001b[0m\u001b[0m\n\u001b[0;32m----> 2\u001b[0;31m \u001b[0md\u001b[0m\u001b[0;34m[\u001b[0m\u001b[0;34m\"new key\"\u001b[0m\u001b[0;34m]\u001b[0m\u001b[0;34m\u001b[0m\u001b[0;34m\u001b[0m\u001b[0m\n\u001b[0m",
      "\u001b[0;31mKeyError\u001b[0m: 'new key'"
     ]
    }
   ],
   "source": [
    "d = dict()\n",
    "d[\"new key\"]"
   ]
  },
  {
   "cell_type": "markdown",
   "metadata": {
    "id": "2WR-X1P_rYZ9"
   },
   "source": [
    "Other datatypes as `default_factory`:"
   ]
  },
  {
   "cell_type": "code",
   "execution_count": null,
   "metadata": {
    "colab": {
     "base_uri": "https://localhost:8080/"
    },
    "id": "qVgU-xR4rYZ9",
    "outputId": "e5320b96-3ae7-46c4-b417-262d25d44cd7"
   },
   "outputs": [
    {
     "data": {
      "text/plain": [
       "0"
      ]
     },
     "execution_count": 18,
     "metadata": {},
     "output_type": "execute_result"
    }
   ],
   "source": [
    "d = defaultdict(int)\n",
    "d[\"new key\"]"
   ]
  },
  {
   "cell_type": "code",
   "execution_count": null,
   "metadata": {
    "colab": {
     "base_uri": "https://localhost:8080/"
    },
    "id": "OIV2CzxVrYZ-",
    "outputId": "e15b8a3c-ae75-4cc2-bc09-6ea1c703a6e6"
   },
   "outputs": [
    {
     "data": {
      "text/plain": [
       "[]"
      ]
     },
     "execution_count": 19,
     "metadata": {},
     "output_type": "execute_result"
    }
   ],
   "source": [
    "d = defaultdict(list)\n",
    "d[\"new key\"]"
   ]
  },
  {
   "cell_type": "markdown",
   "metadata": {
    "id": "4MyKl32BrYaA"
   },
   "source": [
    "Converting an already existing `dict`:"
   ]
  },
  {
   "cell_type": "code",
   "execution_count": null,
   "metadata": {
    "colab": {
     "base_uri": "https://localhost:8080/"
    },
    "id": "SMtrLDEWrYaA",
    "outputId": "5bf5ffcf-4c1e-4d8f-ab11-4fed93e81971"
   },
   "outputs": [
    {
     "name": "stdout",
     "output_type": "stream",
     "text": [
      "value\n",
      "0.0\n"
     ]
    }
   ],
   "source": [
    "d1 = {k: \"value\" for k in range(1, 11)}\n",
    "d = defaultdict(float, d1) # convert it to a defaultdict\n",
    "print(d[5])\n",
    "print(d[100])"
   ]
  },
  {
   "cell_type": "markdown",
   "metadata": {
    "id": "Xt3d7ZnvrYaA"
   },
   "source": [
    "This doesn't work:"
   ]
  },
  {
   "cell_type": "code",
   "execution_count": null,
   "metadata": {
    "colab": {
     "base_uri": "https://localhost:8080/",
     "height": 168
    },
    "id": "XX269iqtrYaB",
    "outputId": "6ffaf8ac-66ea-49b6-e7a8-64e60d8d3440"
   },
   "outputs": [
    {
     "ename": "TypeError",
     "evalue": "ignored",
     "output_type": "error",
     "traceback": [
      "\u001b[0;31m---------------------------------------------------------------------------\u001b[0m",
      "\u001b[0;31mTypeError\u001b[0m                                 Traceback (most recent call last)",
      "\u001b[0;32m<ipython-input-21-3d3819b3d911>\u001b[0m in \u001b[0;36m<module>\u001b[0;34m()\u001b[0m\n\u001b[0;32m----> 1\u001b[0;31m \u001b[0md\u001b[0m \u001b[0;34m=\u001b[0m \u001b[0mdefaultdict\u001b[0m\u001b[0;34m(\u001b[0m\u001b[0;36m10\u001b[0m\u001b[0;34m)\u001b[0m\u001b[0;34m\u001b[0m\u001b[0;34m\u001b[0m\u001b[0m\n\u001b[0m",
      "\u001b[0;31mTypeError\u001b[0m: first argument must be callable or None"
     ]
    }
   ],
   "source": [
    "d = defaultdict(10)"
   ]
  },
  {
   "cell_type": "markdown",
   "metadata": {
    "id": "pWGZOcocrYaB"
   },
   "source": [
    "Use a `lambda` to make the number `10` `callable`\":"
   ]
  },
  {
   "cell_type": "code",
   "execution_count": null,
   "metadata": {
    "colab": {
     "base_uri": "https://localhost:8080/"
    },
    "id": "D39z70qprYaB",
    "outputId": "b2415012-d2d1-495a-ffe3-21b9be0c1fd0"
   },
   "outputs": [
    {
     "data": {
      "text/plain": [
       "10"
      ]
     },
     "execution_count": 22,
     "metadata": {},
     "output_type": "execute_result"
    }
   ],
   "source": [
    "d = defaultdict(lambda: 10)\n",
    "d[\"new key\"]"
   ]
  },
  {
   "cell_type": "code",
   "execution_count": null,
   "metadata": {
    "colab": {
     "base_uri": "https://localhost:8080/"
    },
    "id": "N9He-DRTrYaC",
    "outputId": "142ae911-19b9-4d44-a0df-25c37206e6e1"
   },
   "outputs": [
    {
     "data": {
      "text/plain": [
       "defaultdict(float, {})"
      ]
     },
     "execution_count": 24,
     "metadata": {},
     "output_type": "execute_result"
    }
   ],
   "source": [
    "d = defaultdict(lambda: defaultdict(float))\n",
    "d[\"new key\"]"
   ]
  },
  {
   "cell_type": "markdown",
   "metadata": {
    "id": "mvBxgYh5rYaC"
   },
   "source": [
    "Clever use of a `defaultdict` can be the solution to the problem of data-storing in a smoothing $N$-gram pointed out above:\n",
    "    \n",
    "    ngram = defaultdict(lambda: k/(N+kV), ngram)"
   ]
  },
  {
   "cell_type": "markdown",
   "metadata": {
    "id": "Ur748h_8rYaC"
   },
   "source": [
    "The following function is given:"
   ]
  },
  {
   "cell_type": "code",
   "execution_count": 12,
   "metadata": {
    "id": "WPGbCK_CrYaC"
   },
   "outputs": [],
   "source": [
    "train_file = \"ted-train.txt\"\n",
    "\n",
    "def read(fname, max_lines=np.inf):\n",
    "    \"\"\"\n",
    "    Reads in the data in fname and returns it as\n",
    "    one long list of words. Also returns a vocabulary in\n",
    "    the form of a word2index and index2word dictionary.\n",
    "    \"\"\"\n",
    "    data = []\n",
    "    # w2i will automatically keep a counter to asign to new words\n",
    "    w2i = defaultdict(lambda: len(w2i))\n",
    "    i2w = dict()\n",
    "    start = \"<s>\"\n",
    "    end = \"</s>\"\n",
    "    \n",
    "    with open(fname, \"r\", encoding = 'UTF-8') as fh:\n",
    "        for k, line in enumerate(fh):\n",
    "            if k > max_lines:\n",
    "                break\n",
    "            words = line.strip().split()\n",
    "            # assign an index to each word\n",
    "            for w in words:\n",
    "                i2w[w2i[w]] = w # trick\n",
    "            \n",
    "            sent = [start] + words + [end]\n",
    "            data.append(sent)\n",
    "\n",
    "    return data, w2i, i2w"
   ]
  },
  {
   "cell_type": "code",
   "execution_count": 14,
   "metadata": {
    "colab": {
     "base_uri": "https://localhost:8080/"
    },
    "id": "DZPMbyx3rYaD",
    "outputId": "a8df39b1-c34a-4eda-8d53-8d42dd574eee"
   },
   "outputs": [],
   "source": [
    "def train_ngram(data, N, k=0):\n",
    "    \"\"\"\n",
    "    Trains an n-gram language model with optional add-k smoothing\n",
    "    and additionaly returns the unigram model\n",
    "    \n",
    "    :param data: text-data as returned by read\n",
    "    :param N: (N>1) the order of the ngram e.g. N=2 gives a bigram\n",
    "    :param k: optional add-k smoothing\n",
    "    :returns: ngram and unigram\n",
    "    \"\"\"\n",
    "    ngram = defaultdict(Counter) # ngram[history][word] = #(history,word)\n",
    "    #unigram = defaultdict(float, Counter(data)) # default prob is 0.0           \n",
    "\n",
    "    ## YOUR CODE HERE ##\n",
    "    data_new = []\n",
    "    for line in data:\n",
    "        for word in line:\n",
    "            data_new.append(word)\n",
    "    count_unigram = Counter()\n",
    "    count_ngram = defaultdict(Counter)\n",
    "    for word in data_new:\n",
    "        count_unigram[word] += 1\n",
    "    V = len(count_unigram)\n",
    "    ngram = defaultdict(lambda: defaultdict(lambda: k / (N + k * V)))  \n",
    "    unigram = defaultdict(lambda: k / (N + k * V))\n",
    "    sum_unigram = sum(count_unigram.values())\n",
    "    for word in data_new:\n",
    "        unigram[word] = (count_unigram[word] + k)/(sum_unigram + N + k * V)\n",
    "    if(N == 2):\n",
    "        word_1 = data_new[0]\n",
    "        for word_2 in data_new[1:]:\n",
    "            count_ngram[word_1][word_2] += 1\n",
    "            word_1 = word_2\n",
    "        #counts_ngram = count_ngram\n",
    "        word_1 = data_new[0]\n",
    "        for word_2 in data_new[1:]:\n",
    "            ngram[word_1][word_2] = (count_ngram[word_1][word_2] + k)/(sum(count_ngram[word_1].values()) + N + k * V)\n",
    "            word_1 = word_2\n",
    "    elif(N == 3):\n",
    "        word_1 = data_new[0]\n",
    "        word_2 = data_new[1]\n",
    "        for word_3 in data_new[2:]:\n",
    "            count_ngram[word_1+ \" \" + word_2][word_3] += 1\n",
    "            word_1 = word_2\n",
    "            word_2 = word_3\n",
    "          #counts_ngram = count_ngram\n",
    "        word_1 = data_new[0]\n",
    "        word_2 = data_new[1]\n",
    "        for word_3 in data_new[2:]:\n",
    "            ngram[word_1 + \" \" + word_2][word_3] = (count_ngram[word_1 + \" \" + word_2][word_3] + k)/(sum(count_ngram[word_1 + \" \" + word_2].values()) + N + k * V)\n",
    "            word_1 = word_2\n",
    "            word_2 = word_3\n",
    "    elif(N == 4):\n",
    "        word_1 = data_new[0]\n",
    "        word_2 = data_new[1]\n",
    "        word_3 = data_new[2]\n",
    "        for word_4 in data_new[3:]:\n",
    "            count_ngram[word_1+ \" \" + word_2 + \" \" + word_3][word_4] += 1\n",
    "            word_1 = word_2\n",
    "            word_2 = word_3\n",
    "            word_3 = word_4\n",
    "        #counts_ngram = count_ngram\n",
    "        word_1 = data_new[0]\n",
    "        word_2 = data_new[1]\n",
    "        word_3 = data_new[2]\n",
    "        for word_4 in data_new[3:]:\n",
    "            ngram[word_1+ \" \" + word_2 + \" \" + word_3][word_4] = (count_ngram[word_1+ \" \" + word_2 + \" \" + word_3][word_4] + k)/(sum(count_ngram[word_1+ \" \" + word_2 + \" \" + word_3].values()) + N + k * V)\n",
    "            word_1 = word_2\n",
    "            word_2 = word_3\n",
    "            word_3 = word_4\n",
    "    return ngram, unigram\n",
    "\n",
    "data, w2i, i2w = read(train_file)\n",
    "bigram, unigram = train_ngram(data, N=2, k=0)\n",
    "#print(bigram, unigram)\n",
    "trigram, unigram = train_ngram(data, N=3, k=0)\n",
    "#print(trigram, unigram)\n",
    "quadgram, unigram = train_ngram(data, N=4, k=0)\n",
    "#print(quadgram, unigram)\n",
    "#bigram_smoothed, unigram_smoothed = train_ngram(data, N=2, k=1)\n",
    "#print(bigram_smoothed, unigram_smoothed)\n",
    "#trigram_smoothed, unigram_smoothed = train_ngram(data, N=3, k=1)\n",
    "#print(trigram_smoothed, unigram_smoothed)\n",
    "#quadgram_smoothed, unigram_smoothed = train_ngram(data, N=4, k=1)\n",
    "#print(quadgram_smoothed, unigram_smoothed)"
   ]
  },
  {
   "cell_type": "code",
   "execution_count": null,
   "metadata": {
    "colab": {
     "base_uri": "https://localhost:8080/"
    },
    "id": "fZN_8YsGrYaD",
    "outputId": "cde69918-ceca-4fa4-bb5e-87bdef8179a1"
   },
   "outputs": [
    {
     "data": {
      "text/plain": [
       "['<s>',\n",
       " 'Both',\n",
       " 'are',\n",
       " 'necessary',\n",
       " ',',\n",
       " 'but',\n",
       " 'it',\n",
       " 'can',\n",
       " 'be',\n",
       " 'too',\n",
       " 'much',\n",
       " 'of',\n",
       " 'a',\n",
       " 'good',\n",
       " 'thing',\n",
       " '.',\n",
       " '</s>']"
      ]
     },
     "execution_count": 27,
     "metadata": {},
     "output_type": "execute_result"
    }
   ],
   "source": [
    "data[2]"
   ]
  },
  {
   "cell_type": "markdown",
   "metadata": {
    "id": "IVIoKj_7rYaE"
   },
   "source": [
    "## Exercise 2.2 (5 points)\n",
    "\n",
    "You can use an *N*-gram language model to **generate text**. The higher the order *N* the better your model will be able to catch the long-range dependecies that occur in actual sentences and the better your changes are at generating sensible text. But beware: **sparsity** of language data will quickly cause your model to reproduce entire lines from your training data; in such cases only one $w_k$ was observed for the histories $w_{k-N+1}\\dots w_{k-1}$ in the entire training-set.\n",
    "\n",
    "**Complete** the function `generate_sent`. It takes a language model `lm` and an order `N` and should generate a sentence by **sampling** from the language model.\n",
    "\n",
    "**[Hint]** You can use the method of [inverse transform sampling](https://en.wikipedia.org/wiki/Inverse_transform_sampling) to generate a sample from a **categorical distribution**, $p_1\\dots p_k$ such that $p_i \\geq 0$ and $\\sum_{i=1}^k p_i = 1$, as follows:"
   ]
  },
  {
   "cell_type": "code",
   "execution_count": 17,
   "metadata": {
    "colab": {
     "base_uri": "https://localhost:8080/"
    },
    "id": "WnIaCh59rYaF",
    "outputId": "b2cf6b08-d2ad-41b8-c33d-e919f5d09954"
   },
   "outputs": [
    {
     "name": "stdout",
     "output_type": "stream",
     "text": [
      "3\n",
      "Counter({2: 510, 1: 212, 3: 175, None: 103})\n"
     ]
    }
   ],
   "source": [
    "from random import random\n",
    "from collections import Counter\n",
    "\n",
    "P = [0.2,0.5,0.2,0.1]\n",
    "\n",
    "def sample(P):\n",
    "    u = random() # uniformly random number between 0 and 1\n",
    "    p = 0\n",
    "    for i, p_i in enumerate(P):\n",
    "        if p > u: \n",
    "            return i # the first i s.t. p1 + ... + pi > u\n",
    "        p += p_i\n",
    "        \n",
    "print(sample(P))\n",
    "\n",
    "print(Counter([sample(P) for i in range(1000)])) # check to see if the law of large numbers is still true"
   ]
  },
  {
   "cell_type": "markdown",
   "metadata": {
    "id": "DKRrEraMrYaG"
   },
   "source": [
    "Inverse transform sampling in the words of Jurafsky and Martin:\n",
    "\n",
    "> Imagine all the words of the English language covering the probability space\n",
    "between 0 and 1, each word covering an interval proportional to its frequency. We\n",
    "choose a random value between 0 and 1 and print the word whose interval includes\n",
    "this chosen value.\n",
    "\n",
    "(J&M, section 4.3)"
   ]
  },
  {
   "cell_type": "code",
   "execution_count": 15,
   "metadata": {
    "id": "zCH6gX50rYaG"
   },
   "outputs": [],
   "source": [
    "from random import choice\n",
    "def generate_sent(lm, N):\n",
    "    ## YOUR CODE HERE ##\n",
    "    sent = []\n",
    "    insert_word = \"<s>\"\n",
    "    if(N == 1):\n",
    "        sent.sppend(insert_word)\n",
    "        words = list(lm.keys())\n",
    "        probs = list(lm.values())\n",
    "        while(insert_word != \"</s>\"):\n",
    "            k = sample(probs)\n",
    "            if k == None:\n",
    "                insert_word = \"</s>\"\n",
    "            else:\n",
    "                insert_word = words[k]\n",
    "            sent.append(insert_word)\n",
    "    elif(N == 2):\n",
    "        sent.append(insert_word)\n",
    "        while(insert_word != \"</s>\"):\n",
    "            words=list(lm[insert_word].keys())\n",
    "            probs=list(lm[insert_word].values())\n",
    "            k = sample(probs)\n",
    "            if k == None:\n",
    "                insert_word = \"</s>\"\n",
    "            else:\n",
    "                insert_word = words[k]\n",
    "            sent.append(insert_word)\n",
    "    elif(N == 3):\n",
    "        sent.append(insert_word)\n",
    "        temp = []\n",
    "        for k in lm.keys(): \n",
    "            if(k.split(\" \",1)[0] == \"<s>\"):\n",
    "                temp.append(k.split(\" \",1)[1])\n",
    "        Totalsum = 0 \n",
    "        for new_word in temp:\n",
    "            Totalsum += sum(lm[insert_word + \" \" + new_word].values())\n",
    "        probs =[sum(lm[insert_word + \" \" + new_word].values()) / Totalsum for new_word in temp]\n",
    "        insert_word_2 = temp[sample(probs)]\n",
    "        sent.append(insert_word_2)\n",
    "        while(insert_word != \"</s>\"):\n",
    "            words = list(lm[insert_word +  \" \" + insert_word_2].keys())\n",
    "            probs = list(lm[insert_word +  \" \" + insert_word_2].values())\n",
    "            insert_word = insert_word_2\n",
    "            k = sample(probs)\n",
    "            if k == None:\n",
    "                insert_word_2 = \"</s>\"\n",
    "            else:\n",
    "                insert_word_2 = words[k]\n",
    "            sent.append(insert_word_2)\n",
    "    elif(N == 4):\n",
    "        sent.append(insert_word)\n",
    "        temp = []\n",
    "        for k in lm.keys(): \n",
    "            if(k.split(\" \",2)[0] == \"<s>\"):\n",
    "                temp.append(k.split(\" \",1)[1])\n",
    "        temp_1 = choice(temp)\n",
    "        insert_word_2, insert_word_3 = temp_1.split(\" \",1)[0], temp_1.split(\" \",1)[1]\n",
    "        sent.append(insert_word_2)\n",
    "        sent.append(insert_word_3)\n",
    "        while(insert_word_3 != \"</s>\"):\n",
    "            words=list(lm[insert_word + \" \" + insert_word_2 + \" \" + insert_word_3].keys())\n",
    "            probs=list(lm[insert_word + \" \" + insert_word_2 + \" \" + insert_word_3].values())\n",
    "            insert_word = insert_word_2\n",
    "            insert_word_2 = insert_word_3\n",
    "            k = sample(probs)\n",
    "            if k == None:\n",
    "                insert_word_3 = \"</s>\"\n",
    "            else:\n",
    "                insert_word_3 = words[k]\n",
    "            sent.append(insert_word_3)\n",
    " \n",
    "    return \" \".join(sent)\n",
    "    \n",
    "    "
   ]
  },
  {
   "cell_type": "code",
   "execution_count": 18,
   "metadata": {},
   "outputs": [
    {
     "name": "stdout",
     "output_type": "stream",
     "text": [
      "<s> If Africa </s>\n"
     ]
    }
   ],
   "source": [
    "bigram, unigram = train_ngram(data, N=2, k=0)\n",
    "print(generate_sent(bigram, 2))"
   ]
  },
  {
   "cell_type": "code",
   "execution_count": 27,
   "metadata": {},
   "outputs": [],
   "source": [
    "trigram, unigram = train_ngram(data, N=3, k=0)\n",
    "#print(generate_sent(bigram, 3))"
   ]
  },
  {
   "cell_type": "code",
   "execution_count": 19,
   "metadata": {},
   "outputs": [
    {
     "name": "stdout",
     "output_type": "stream",
     "text": [
      "<s> Like endocrinal </s>\n"
     ]
    }
   ],
   "source": [
    "quadgram, unigram = train_ngram(data, N=4, k=0)\n",
    "print(generate_sent(quadgram, 4))"
   ]
  },
  {
   "cell_type": "markdown",
   "metadata": {
    "id": "D_Ob7bisrYaG"
   },
   "source": [
    "### [Extra]\n",
    "\n",
    "For how many of the histories $w_{k-N+1}\\dots w_{k-1}$ is the number of continuations $w_n$ equal to **one**? Calculate the percentage of such cases for the different orders *N*.\n",
    "\n",
    "And which history has the **most possible continuations**?"
   ]
  },
  {
   "cell_type": "code",
   "execution_count": 28,
   "metadata": {
    "id": "Z5K3ND4VrYaG"
   },
   "outputs": [],
   "source": [
    "count_sum_1 = defaultdict(float)\n",
    "count_max_1 = defaultdict(float)\n",
    "count_sum_2 = defaultdict(float)\n",
    "count_max_2 = defaultdict(float)\n",
    "count_sum_3 = defaultdict(float)\n",
    "count_max_3 = defaultdict(float)\n",
    "for line in data:\n",
    "    for i in range(len(line)):\n",
    "        if i>0:\n",
    "            if count_sum_1[line[i]] == 0.0:\n",
    "                count_sum_1[line[i]] = sum(bigram[line[i]].values())\n",
    "            if count_max_1[line[i]] == 0.0:\n",
    "                count_max_1[line[i]] = len(bigram[line[i]])\n",
    "        if i>1:\n",
    "            if count_sum_2[line[i-1] + \" \" + line[i]] == 0.0:\n",
    "                count_sum_2[line[i-1] + \" \" + line[i]] = sum(trigram[line[i-1] + \" \" + line[i]].values())\n",
    "            if count_max_2[line[i-1] + \" \" + line[i]] == 0.0:\n",
    "                count_max_2[line[i-1] + \" \" + line[i]] = len(trigram[line[i-1] + \" \" + line[i]])  \n",
    "        if i>2:\n",
    "            if count_sum_3[line[i-2] + \" \" + line[i-1] + \" \" + line[i]] == 0.0:\n",
    "                count_sum_3[line[i-2] + \" \" + line[i-1] + \" \" + line[i]] = sum(quadgram[line[i-2] + \" \" + line[i-1] + \" \" + line[i]].values())\n",
    "            if count_max_3[line[i-2] + \" \" + line[i-1] + \" \" + line[i]] == 0.0:\n",
    "                count_max_3[line[i-2] + \" \" + line[i-1] + \" \" + line[i]] = len(quadgram[line[i-2] + \" \" + line[i-1] + \" \" + line[i]])"
   ]
  },
  {
   "cell_type": "code",
   "execution_count": 36,
   "metadata": {},
   "outputs": [
    {
     "name": "stdout",
     "output_type": "stream",
     "text": [
      "Bigram: 0.0\n",
      "Trigram: 0.0\n",
      "Quadgram: 0.0\n",
      "Max bigram probability: 0.9999933598492974\n",
      "Max trigram probability: 0.9999887391614429\n",
      "Max quadgram probability: 0.9992499531220701\n",
      "Bigram history with most continuations is 'the' with 19019\n",
      "Trigram history with most continuations is 'of the' with 5437\n",
      "Quadram history with most continuations is ', and the' with 1324\n"
     ]
    }
   ],
   "source": [
    "bicount =0\n",
    "bimax = 0\n",
    "maxb_comp = 'Null'\n",
    "max_pro_1 = 0.0\n",
    "for k in count_sum_1.keys():\n",
    "    if max_pro_1 < count_sum_1[k]:\n",
    "        max_pro_1 = count_sum_1[k]\n",
    "    if count_sum_1[k]==1.0:\n",
    "        bicount +=1\n",
    "    if bimax < count_max_1[k]:\n",
    "        bimax = count_max_1[k]\n",
    "        maxb_comp = k\n",
    "tricount =0\n",
    "trimax = 0\n",
    "maxt_comp = 'Null'\n",
    "max_pro_2 = 0.0\n",
    "for k in count_sum_2.keys():\n",
    "    if max_pro_2 < count_sum_2[k]:\n",
    "        max_pro_2 = count_sum_2[k]\n",
    "    if count_sum_2[k]==1.0:\n",
    "        tricount +=1\n",
    "    if trimax < count_max_2[k]:\n",
    "        trimax = count_max_2[k]\n",
    "        maxt_comp = k\n",
    "qcount =0\n",
    "qmax = 0\n",
    "maxq_comp = 'Null'\n",
    "max_pro_3 = 0.0\n",
    "for k in count_sum_3.keys():\n",
    "    if max_pro_3 < count_sum_3[k]:\n",
    "        max_pro_3 = count_sum_3[k]\n",
    "    if count_sum_3[k]==1.0:\n",
    "        qcount +=1\n",
    "    if qmax < count_max_3[k]:\n",
    "        qmax = count_max_3[k]\n",
    "        maxq_comp = k\n",
    "        \n",
    "\n",
    "#prints for 1 question        \n",
    "print(\"Bigram: \" + str(bicount/len(count_sum_1.keys())))\n",
    "print(\"Trigram: \" + str(tricount/len(count_sum_2.keys())))\n",
    "print(\"Quadgram: \"+ str(qcount/len(count_sum_3.keys())))\n",
    "print(\"Max bigram probability: \" + str(max_pro_1))\n",
    "print(\"Max trigram probability: \" + str(max_pro_2))\n",
    "print(\"Max quadgram probability: \" + str(max_pro_3))\n",
    "#prints for 2 question\n",
    "print(\"Bigram history with most continuations is '\"+ maxb_comp +\"' with \"+ str(bimax))\n",
    "print(\"Trigram history with most continuations is '\"+ maxt_comp +\"' with \"+ str(trimax))\n",
    "print(\"Quadram history with most continuations is '\"+ maxq_comp +\"' with \"+ str(qmax))\n"
   ]
  },
  {
   "cell_type": "raw",
   "metadata": {
    "collapsed": true,
    "id": "Pruq9tcFrYaH"
   },
   "source": [
    "When the order is equal to 2, 3 and 4, no probability is summed to 1. However, the result is close to 1(2: 0.9999933598492974, 3:  0.9999887391614429, 4: 0.9992499531220701). But for this question, the percentage should all be 0%. For the history that has the most possible continuations is below:\n",
    "Bigram history with most continuations is 'the' with 19019\n",
    "Trigram history with most continuations is 'of the' with 5437\n",
    "Quadram history with most continuations is ', and the' with 1324"
   ]
  },
  {
   "cell_type": "markdown",
   "metadata": {
    "id": "BZOBip8yrYaH"
   },
   "source": [
    "## Excercise 2.3 (5 points)\n",
    "\n",
    "Let $V$ denote our vocabulary. Recall that for any $w$ in $V$ `bigram[w]` defines a conditional probability $p(v|w)$ over $v$ in $V$. In the case of an **unsmoothed bigram**, $p(v|w) = 0$ for most $v\\in V$, whereas in the **smoothed bigram** smoothing took care that $p(v|w) \\geq 0$ for *all* $v$.\n",
    "\n",
    "The function `plot_bigram_dist(word, bigram, smoothbigram, k=30)` plots shows $p(v|word)$ for the `k` words $v$. One bar shows the probabilities in `bigram` and one in `smoothbigram`. \n",
    "\n",
    "**(a)** Use this function to plot the distribution for at least two words `w` and answer the questions\n",
    "* What is the effect of smoothing on the bigram distribution of frequent words? \n",
    "* What is the effect in the case of infrequent words?\n",
    "* Explain the difference between the two based on the raw counts of `w` \n",
    "\n",
    "**(b)** Now experiment with $k$ much smaller than 1 (but greater than 0!) \n",
    "* What are the effects?\n",
    "\n",
    "\n",
    "**[Hint]** Remember that add-1 smoothing turns \n",
    "$$P(w_n\\mid w_{n-1}) = \\frac{C(w_{n-1}w_{n})}{C(w_{n-1})}$$\n",
    "into\n",
    "$$P_{add-1}(w_n\\mid w_{n-1}) = \\frac{C(w_{n-1}w_{n}) + 1}{C(w_{n-1}) + |V|}.$$\n",
    "\n",
    "What happens when $C(w_{n-1})$ is relatively big (similiar in of size as $ |V| $)? And what if $C(w_{n-1})$ is small? "
   ]
  },
  {
   "cell_type": "code",
   "execution_count": 48,
   "metadata": {
    "id": "ujFnsv_zrYaI"
   },
   "outputs": [],
   "source": [
    "import pandas as pd\n",
    "import seaborn as sns    \n",
    "\n",
    "def plot_bigram_dist(word, bigram, smoothbigram, k=30):\n",
    "    d = bigram[word]\n",
    "    ds = smoothbigram[word]\n",
    "    \n",
    "    # sort the probabilities\n",
    "    d_sort = sorted(d.items(), reverse=True, key=lambda t: t[1])[0:k]\n",
    "    ds_sort = sorted(ds.items(), reverse=True, key=lambda t: t[1])[0:k]\n",
    "    \n",
    "    _, probs = zip(*d_sort)\n",
    "    smooth_ws, smooth_probs = zip(*ds_sort)\n",
    "    \n",
    "    # make up for the fact that in the unsmoothed case  probs is generally less than k long\n",
    "    probs = probs + (0,) * (k-len(probs)) \n",
    "\n",
    "    w_data = pd.DataFrame({\"w\": smooth_ws * 2,\n",
    "                           \"P({}|w)\".format(word): probs + smooth_probs,\n",
    "                           \"smoothing\": [\"unsmoothed\"]*k + [\"smoothed\"]*k})\n",
    "    \n",
    "    fig, ax = plt.subplots(figsize=(10,10))\n",
    "    plt.xticks(rotation=90)\n",
    "    g = sns.barplot(ax=ax, x=\"w\", y=\"P({}|w)\".format(word), hue=\"smoothing\",\n",
    "                    data=w_data, palette=\"Blues_d\")    "
   ]
  },
  {
   "cell_type": "code",
   "execution_count": 40,
   "metadata": {},
   "outputs": [],
   "source": [
    "bigram_smoothed1, unigram_smoothed1 = train_ngram(data, N=2, k=1)\n",
    "trigram_sm, unigram = train_ngram(data, N=3, k=1)"
   ]
  },
  {
   "cell_type": "code",
   "execution_count": 49,
   "metadata": {
    "id": "0cIBVg-2rYaI"
   },
   "outputs": [
    {
     "data": {
      "image/png": "[encoded data removed]",
      "text/plain": [
       "<Figure size 720x720 with 1 Axes>"
      ]
     },
     "metadata": {
      "needs_background": "light"
     },
     "output_type": "display_data"
    },
    {
     "data": {
      "image/png": "[encoded data removed]",
      "text/plain": [
       "<Figure size 720x720 with 1 Axes>"
      ]
     },
     "metadata": {
      "needs_background": "light"
     },
     "output_type": "display_data"
    }
   ],
   "source": [
    "## YOUR CODE HERE ##\n",
    "plot_bigram_dist(\"and\", bigram, bigram_smoothed1)\n",
    "plot_bigram_dist(\"perfect\", bigram, bigram_smoothed1, k=20)"
   ]
  },
  {
   "cell_type": "code",
   "execution_count": 50,
   "metadata": {},
   "outputs": [
    {
     "data": {
      "image/png": "[encoded data removed]",
      "text/plain": [
       "<Figure size 720x720 with 1 Axes>"
      ]
     },
     "metadata": {
      "needs_background": "light"
     },
     "output_type": "display_data"
    },
    {
     "data": {
      "image/png": "[encoded data removed]",
      "text/plain": [
       "<Figure size 720x720 with 1 Axes>"
      ]
     },
     "metadata": {
      "needs_background": "light"
     },
     "output_type": "display_data"
    }
   ],
   "source": [
    "bigram_smoothed_2, unigram_smoothed_2 = train_ngram(data, N=2, k=0.005)\n",
    "bigram_smoothed_3, unigram_smoothed_3 = train_ngram(data, N=2, k=0.0008)\n",
    "plot_bigram_dist(\"and\", bigram,bigram_smoothed_3)\n",
    "plot_bigram_dist(\"perfect\", bigram,bigram_smoothed_2, k=20)"
   ]
  },
  {
   "cell_type": "code",
   "execution_count": 51,
   "metadata": {},
   "outputs": [
    {
     "name": "stdout",
     "output_type": "stream",
     "text": [
      "Count number for and: 106129\n",
      "Count number for perfect: 463\n"
     ]
    }
   ],
   "source": [
    "count_1 = 0\n",
    "count_2 = 0\n",
    "for line in data:\n",
    "    for word in line:\n",
    "        if word == 'and':\n",
    "            count_1 += 1\n",
    "        if word == 'perfect':\n",
    "            count_2 += 1\n",
    "print('Count number for and:', count_1)\n",
    "print('Count number for perfect:', count_2)"
   ]
  },
  {
   "cell_type": "markdown",
   "metadata": {
    "id": "6yEgeOA8rYaI"
   },
   "source": [
    "**Question(a)-1:** What is the effect of smoothing on the bigram distribution of frequent words?\n",
    "\n",
    "**Answer(a)-1:**\n",
    "\n",
    "**Question(a)-2:** What is the effect in the case of infrequent words?\n",
    "\n",
    "**Answer(a)-2:**\n",
    "\n",
    "**Question(a)-3:** Explain the difference between the two based on the raw counts of w\n",
    "\n",
    "**Answer(a)-3:**\n",
    "\n",
    "**Question(b):** What are the effects?\n",
    "\n",
    "**Answer(b):**\n",
    "\n",
    "**Question(c):** What happens when 𝐶(𝑤𝑛−1) is relatively big (similiar in of size as |𝑉|)? And what if 𝐶(𝑤𝑛−1) is small?\n",
    "\n",
    "**Answer(c):**"
   ]
  },
  {
   "cell_type": "markdown",
   "metadata": {
    "id": "yo02UUPbrYaI"
   },
   "source": [
    "\n",
    "**Recall** that if we have a sentence $w_1,\\dots,w_n$ we can write\n",
    "\n",
    "$$P(w_1\\dots w_n) = P(w_1)P(w_2|w_1) \\cdots P(w_i|w_1 \\dots w_{n-1}) \\approx P(w_1)P(w_2|w_1)\\cdots P(w_{N-1}|w_1\\dots w_{N-2})\\prod_{i=N}^{n} P(w_i|w_{i-(N-1)}\\dots w_{i-1})$$\n",
    "\n",
    "where in the last step we make an $N$-gram approximation of the full conditionals.\n",
    "\n",
    "For example, in the case of a bigram (N=2), the above expression reduces to\n",
    "\n",
    "$$P(w_1 \\dots w_n)\\approx P(w_1)\\prod_{i=2}^{n} P(w_i| w_{i-1}).$$\n",
    "\n",
    "## Exercise 2.4 (5 points)\n",
    "\n",
    "The following sentences are taken from the **training data**. Use your **unsmoothed unigram**, **bigram**, and **trigram** language model to estimate their **probabilities**:\n",
    "\n",
    "    1. Every day was about creating something new .\n",
    "    2. In this machine , a beam of protons and anti-protons are accelerated to near the speed of light and brought \n",
    "       together in a collision , producing a burst of pure energy .\n",
    "\n",
    "**Repeat** this with the **smoothed (add-1)** versions of the N-grams. What is the effect of smoothing on the probabilities?\n"
   ]
  },
  {
   "cell_type": "code",
   "execution_count": 42,
   "metadata": {
    "id": "K3KXMqXVrYaJ"
   },
   "outputs": [
    {
     "name": "stdout",
     "output_type": "stream",
     "text": [
      "Language Models without smoothing for first sentence(order N=1,N=2,N=3)\n",
      "7.628903566470952e-27\n",
      "4.6227147955983436e-17\n",
      "4.257773435434731e-09\n",
      "Language Models without smoothing for second sentence(order N=1,N=2,N=3)\n",
      "4.109472785115007e-102\n",
      "4.761675331303943e-73\n",
      "4.196066574051619e-09\n",
      "Language Models with smoothing for first sentence(order N=1,N=2,N=3)\n",
      "7.628916963308627e-27\n",
      "1.3640114506184915e-26\n",
      "1.2867054053522486e-32\n",
      "Language Models with smoothing for second sentence(order N=1,N=2,N=3)\n",
      "4.1094973212476584e-102\n",
      "1.554402615379383e-116\n",
      "3.381118877345232e-35\n"
     ]
    }
   ],
   "source": [
    "## YOUR CODE HERE ##\n",
    "sentence1 = \"<s> Every day was about creating something new . </s>\"\n",
    "sentence2 = \"<s> In this machine , a beam of protons and anti-protons are accelerated to near the speed of light and brought together in a collision , producing a burst of pure energy . </s>\"\n",
    "sent1 = sentence1.split(\" \")\n",
    "sent2 = sentence2.split(\" \")\n",
    "prob_uni1 =1\n",
    "prob_bi1 = 1\n",
    "prob_tri1 = 1\n",
    "for i in range(len(sent1)):\n",
    "    prob_uni1 = unigram[sent1[i]] * prob_uni1\n",
    "    if i>=1:\n",
    "        prob_bi1 = bigram[sent1[i-1]][sent1[i]] * prob_bi1\n",
    "    if i>=2:\n",
    "        prob_tri1 = trigram[sent1[i-2]+\" \"+ sent1[i-1]][sent1[i]] * prob_tri1\n",
    "prob_uni2 =1\n",
    "prob_bi2 = 1\n",
    "prob_tri2 = 1\n",
    "for i in range(len(sent2)):\n",
    "    prob_uni2 = unigram[sent2[i]] * prob_uni2\n",
    "    if i>=1:\n",
    "        prob_bi2 = bigram[sent2[i-1]][sent2[i]] * prob_bi2\n",
    "    if i>=2:\n",
    "        prob_tri2 = trigram[sent2[i-2]+\" \"+ sent2[i-1]][sent2[i]] * prob_tri1\n",
    "\n",
    "print(\"Language Models without smoothing for first sentence(order N=1,N=2,N=3)\")\n",
    "print(prob_uni1)\n",
    "print(prob_bi1)\n",
    "print(prob_tri1)\n",
    "print(\"Language Models without smoothing for second sentence(order N=1,N=2,N=3)\")\n",
    "print(prob_uni2)\n",
    "print(prob_bi2)\n",
    "print(prob_tri2)\n",
    "\n",
    "prob_uni1sm =1\n",
    "prob_bi1sm = 1\n",
    "prob_tri1sm = 1\n",
    "for i in range(len(sent1)):\n",
    "    prob_uni1sm = unigram_smoothed1[sent1[i]] * prob_uni1sm\n",
    "    if i>=1:\n",
    "        prob_bi1sm = bigram_smoothed1[sent1[i-1]][sent1[i]] * prob_bi1sm\n",
    "    if i>=2:\n",
    "        prob_tri1sm = trigram_sm[sent1[i-2]+\" \"+ sent1[i-1]][sent1[i]] * prob_tri1sm\n",
    "prob_uni2sm =1\n",
    "prob_bi2sm = 1\n",
    "prob_tri2sm = 1\n",
    "for i in range(len(sent2)):\n",
    "    prob_uni2sm = unigram_smoothed1[sent2[i]] * prob_uni2sm\n",
    "    if i>=1:\n",
    "        prob_bi2sm = bigram_smoothed1[sent2[i-1]][sent2[i]] * prob_bi2sm\n",
    "    if i>=2:\n",
    "        prob_tri2sm = trigram_sm[sent2[i-2]+\" \"+ sent2[i-1]][sent2[i]] * prob_tri1sm\n",
    "        \n",
    "print(\"Language Models with smoothing for first sentence(order N=1,N=2,N=3)\")\n",
    "print(prob_uni1sm)\n",
    "print(prob_bi1sm)\n",
    "print(prob_tri1sm)\n",
    "print(\"Language Models with smoothing for second sentence(order N=1,N=2,N=3)\")\n",
    "print(prob_uni2sm)\n",
    "print(prob_bi2sm)\n",
    "print(prob_tri2sm)"
   ]
  },
  {
   "cell_type": "markdown",
   "metadata": {
    "id": "T3xNyEHFrYaJ"
   },
   "source": [
    "First sentence, N = 1, without smoothing: 7.628903566470952e-27\n",
    "\n",
    "First sentence, N = 1, with smoothing: 7.628916963308627e-27\n",
    "\n",
    "First sentence, N = 2, without smoothing: 4.6227147955983436e-17\n",
    "\n",
    "First sentence, N = 2, with smoothing: 1.3640114506184915e-26\n",
    "\n",
    "First sentence, N = 3, without smoothing: 4.257773435434731e-09\n",
    "\n",
    "First sentence, N = 3, with smoothing: 1.2867054053522486e-32\n",
    "\n",
    "Second sentence, N = 1, without smoothing: 4.109472785115007e-102\n",
    "\n",
    "Second sentence, N = 1, with smoothing: 4.1094973212476584e-102\n",
    "\n",
    "Second sentence, N = 2, without smoothing: 4.761675331303943e-73\n",
    "\n",
    "Second sentence, N = 2, with smoothing: 1.554402615379383e-116\n",
    "\n",
    "Second sentence, N = 3, without smoothing: 4.196066574051619e-09\n",
    "\n",
    "Second sentence, N = 3, with smoothing: 3.381118877345232e-35"
   ]
  },
  {
   "cell_type": "markdown",
   "metadata": {
    "id": "6yEgeOA8rYaI"
   },
   "source": [
    "When N = 1, for both sentences, the probability is almost the same. During other situations, the probabilities of the unsmoothed models are higher than the probabilities of the smoothed ones."
   ]
  },
  {
   "cell_type": "markdown",
   "metadata": {
    "id": "YMpXcC1orYaJ"
   },
   "source": [
    "## Exercise 2.5 (5 points)\n",
    "\n",
    "The above sentences were taken from the training set, hence they will all have probability greater than 0. The big challenge for our language model are of course with sentence that contain unseen N-grams: if such an N-gram occurs our model immediately assigns the sentence probability zero.\n",
    "\n",
    "The following three senteces are taken from the **test set** availlable in the file **ted-test.txt**. What probabilities do your smoothed and unsmoothed language models asign in this case?\n",
    "\n",
    "    1. Because these robots are really safe .\n",
    "    2. We have sheer nothingness on one side , and we have this vision of a reality that encompasses every \n",
    "       conceivable world at the other extreme : the fullest possible reality , nothingness , the simplest possible \n",
    "       reality ."
   ]
  },
  {
   "cell_type": "code",
   "execution_count": 43,
   "metadata": {
    "id": "5vjSLeMXrYaL"
   },
   "outputs": [
    {
     "name": "stdout",
     "output_type": "stream",
     "text": [
      "Language Models without smoothing for first sentence(order N=1,N=2,N=3)\n",
      "3.1752657324256928e-24\n",
      "2.660588472701394e-15\n",
      "0.0\n",
      "Language Models without smoothing for second sentence(order N=1,N=2,N=3)\n",
      "3.609529174869051e-120\n",
      "0.0\n",
      "0.0\n",
      "Language Models with smoothing for first sentence(order N=1,N=2,N=3)\n",
      "3.1752707507961485e-24\n",
      "7.25807027066009e-24\n",
      "5.737985872887042e-31\n",
      "Language Models with smoothing for second sentence(order N=1,N=2,N=3)\n",
      "3.60955452918289e-120\n",
      "1.4189813501695615e-126\n",
      "1.3903937664756158e-33\n"
     ]
    }
   ],
   "source": [
    "### YOUR CODE HERE ###\n",
    "sent1 = \"<s> Because these robots are really safe . </s>\"\n",
    "sent2 = \"<s> We have sheer nothingness on one side , and we have this vision of a reality that encompasses every conceivable world at the other extreme : the fullest possible reality , nothingness , the simplest possible reality . </s>\"\n",
    "sent1 = sent1.split(\" \")\n",
    "sent2 = sent2.split(\" \")\n",
    "prob_uni1 =1\n",
    "prob_bi1 = 1\n",
    "prob_tri1 = 1\n",
    "for i in range(len(sent1)):\n",
    "    prob_uni1 = unigram[sent1[i]] * prob_uni1\n",
    "    if i>=1:\n",
    "        prob_bi1 = bigram[sent1[i-1]][sent1[i]] * prob_bi1\n",
    "    if i>=2:\n",
    "        prob_tri1 = trigram[sent1[i-2]+\" \"+ sent1[i-1]][sent1[i]] * prob_tri1\n",
    "prob_uni2 =1\n",
    "prob_bi2 = 1\n",
    "prob_tri2 = 1\n",
    "for i in range(len(sent2)):\n",
    "    prob_uni2 = unigram[sent2[i]] * prob_uni2\n",
    "    if i>=1:\n",
    "        prob_bi2 = bigram[sent2[i-1]][sent2[i]] * prob_bi2\n",
    "    if i>=2:\n",
    "        prob_tri2 = trigram[sent2[i-2]+\" \"+ sent2[i-1]][sent2[i]] * prob_tri1\n",
    "        \n",
    "print(\"Language Models without smoothing for first sentence(order N=1,N=2,N=3)\")\n",
    "print(prob_uni1)\n",
    "print(prob_bi1)\n",
    "print(prob_tri1)\n",
    "print(\"Language Models without smoothing for second sentence(order N=1,N=2,N=3)\")\n",
    "print(prob_uni2)\n",
    "print(prob_bi2)\n",
    "print(prob_tri2)\n",
    "\n",
    "prob_uni1sm =1\n",
    "prob_bi1sm = 1\n",
    "prob_tri1sm = 1\n",
    "for i in range(len(sent1)):\n",
    "    prob_uni1sm = unigram_smoothed1[sent1[i]] * prob_uni1sm\n",
    "    if i>=1:\n",
    "        prob_bi1sm = bigram_smoothed1[sent1[i-1]][sent1[i]] * prob_bi1sm\n",
    "    if i>=2:\n",
    "        prob_tri1sm = trigram_sm[sent1[i-2]+\" \"+ sent1[i-1]][sent1[i]] * prob_tri1sm\n",
    "prob_uni2sm =1\n",
    "prob_bi2sm = 1\n",
    "prob_tri2sm = 1\n",
    "for i in range(len(sent2)):\n",
    "    prob_uni2sm = unigram_smoothed1[sent2[i]] * prob_uni2sm\n",
    "    if i>=1:\n",
    "        prob_bi2sm = bigram_smoothed1[sent2[i-1]][sent2[i]] * prob_bi2sm\n",
    "    if i>=2:\n",
    "        prob_tri2sm = trigram_sm[sent2[i-2]+\" \"+ sent2[i-1]][sent2[i]] * prob_tri1sm\n",
    "        \n",
    "print(\"Language Models with smoothing for first sentence(order N=1,N=2,N=3)\")\n",
    "print(prob_uni1sm)\n",
    "print(prob_bi1sm)\n",
    "print(prob_tri1sm)\n",
    "print(\"Language Models with smoothing for second sentence(order N=1,N=2,N=3)\")\n",
    "print(prob_uni2sm)\n",
    "print(prob_bi2sm)\n",
    "print(prob_tri2sm)"
   ]
  },
  {
   "cell_type": "markdown",
   "metadata": {
    "id": "a59wmSKorYaL"
   },
   "source": [
    "First sentence, N = 1, without smoothing: 3.1752657324256928e-24\n",
    "\n",
    "First sentence, N = 1, with smoothing: 3.1752707507961485e-24\n",
    "\n",
    "First sentence, N = 2, without smoothing: 2.660588472701394e-15\n",
    "\n",
    "First sentence, N = 2, with smoothing: 7.25807027066009e-24\n",
    "\n",
    "First sentence, N = 3, without smoothing: 0.0\n",
    "\n",
    "First sentence, N = 3, with smoothing: 5.737985872887042e-31\n",
    "\n",
    "Second sentence, N = 1, without smoothing: 3.609529174869051e-120\n",
    "\n",
    "Second sentence, N = 1, with smoothing: 3.60955452918289e-120\n",
    "\n",
    "Second sentence, N = 2, without smoothing: 0.0\n",
    "\n",
    "Second sentence, N = 2, with smoothing: 1.4189813501695615e-126\n",
    "\n",
    "Second sentence, N = 3, without smoothing: 0.0\n",
    "\n",
    "Second sentence, N = 3, with smoothing: 1.3903937664756158e-33"
   ]
  },
  {
   "cell_type": "markdown",
   "metadata": {
    "id": "bVCrOekarYaL"
   },
   "source": [
    "### [Extra]\n",
    "\n",
    "**Optional** What percentage of the sentences in the test set get assigned probability 0 under your smoothed and unsmoothed language models? "
   ]
  },
  {
   "cell_type": "code",
   "execution_count": 45,
   "metadata": {
    "id": "iDZkRrbmrYaL"
   },
   "outputs": [
    {
     "name": "stdout",
     "output_type": "stream",
     "text": [
      "Unigram : 0.0\n",
      "Bigram : 0.7132867132867133\n",
      "Trigram : 0.8916083916083916\n",
      "Unigram Smoothed : 0.0\n",
      "Bigram Smoothed : 0.0\n",
      "Trigram Smoothed : 0.0034965034965034965\n"
     ]
    }
   ],
   "source": [
    "### ANSWER HERE ###\n",
    "data_t, w2i_t, i2w_t = read('ted-test.txt') #read the file\n",
    "bigram_smoothed_new, unigram_smoothed_new = train_ngram(data, N=2, k=0.0008)\n",
    "uni = 0\n",
    "uni_sm = 0\n",
    "bi = 0\n",
    "bi_sm = 0\n",
    "tri = 0\n",
    "tri_sm = 0\n",
    "for words in data_t:\n",
    "    prob_uni = 1\n",
    "    prob_bi = 1\n",
    "    prob_tri = 1\n",
    "    prob_unism = 1\n",
    "    prob_bism = 1\n",
    "    prob_trism = 1\n",
    "    for i in range(len(words)):\n",
    "        prob_uni = unigram[words[i]] * prob_uni\n",
    "        prob_unism = unigram_smoothed_new[words[i]] * prob_unism\n",
    "        if i>=1:\n",
    "            prob_bi = bigram[words[i-1]][words[i]] * prob_bi\n",
    "            prob_bism = bigram_smoothed_new[words[i-1]][words[i]] * prob_bism\n",
    "        if i>=2:\n",
    "            prob_tri = trigram[words[i-2]+\" \"+ words[i-1]][words[i]] * prob_tri\n",
    "            prob_trism = trigram_sm[words[i-2]+\" \"+ words[i-1]][words[i]] * prob_trism\n",
    "    if prob_uni ==0 :\n",
    "        uni +=1\n",
    "    if prob_bi ==0 :\n",
    "        bi +=1\n",
    "    if prob_tri ==0 :\n",
    "        tri +=1\n",
    "    if prob_unism ==0 :\n",
    "        uni_sm +=1\n",
    "    if prob_bism ==0 :\n",
    "        bi_sm +=1\n",
    "    if prob_trism ==0 :\n",
    "        tri_sm +=1\n",
    "print(\"Unigram : \" + str(uni/len(data_t)))\n",
    "print(\"Bigram : \" + str(bi/len(data_t)))\n",
    "print(\"Trigram : \" + str(tri/len(data_t)))\n",
    "print(\"Unigram Smoothed : \" + str(uni_sm/len(data_t)))\n",
    "print(\"Bigram Smoothed : \" + str(bi_sm/len(data_t)))\n",
    "print(\"Trigram Smoothed : \" + str(tri_sm/len(data_t)))"
   ]
  },
  {
   "cell_type": "markdown",
   "metadata": {
    "id": "dhWECzifrYaL"
   },
   "source": [
    "## Exercise 2.6 (5 points)\n",
    "\n",
    "**Perplexity** is very frequently used **metric** for evaluating probabilistic models such as language models. The perplexity (sometimes called **PP** for short) of a language model on a sentence is the **inverse probability** of the sentence, **normalized** by the number of words:\n",
    "\n",
    "$$PP(w_1 \\dots w_n) = P(w_1\\dots w_n)^{-\\frac{1}{n}}.$$\n",
    "\n",
    "Here we can again approximate $P(w_1 \\dots w_n)$ with N-gram probabilities, as above.\n",
    "Note: $(x_1\\cdots x_n)^{-\\frac{1}{n}}$ is the **geometric mean** of the numbers $x_1,\\dots,x_n$. It is like the (regular) artithmetic mean, but with **products** instead of **sums**. The geometric mean is a more natural choice in the case of *PP* because behind $P(w_1\\dots w_n)$ is a series of $n$ products ([more here](https://en.wikipedia.org/wiki/Geometric_mean)).\n",
    "\n",
    "\n",
    "\n",
    "Compute the perplexity of the training sentences from excercise 2.1. What big difference between the **probabilities** of the sentences and the **perplexities** of the sentences do you notice?"
   ]
  },
  {
   "cell_type": "code",
   "execution_count": 46,
   "metadata": {
    "id": "bqcs-LPcrYaM"
   },
   "outputs": [
    {
     "name": "stdout",
     "output_type": "stream",
     "text": [
      "['<s>', 'Here', 'are', 'two', 'reasons', 'companies', 'fail', ':', 'they', 'only', 'do', 'more', 'of', 'the', 'same', ',', 'or', 'they', 'only', 'do', 'what', \"'s\", 'new', '.', '</s>']\n",
      "2.5367111853835893e-65 383.5563340176096\n",
      "6.372455067420436e-48 77.23741472306979\n",
      "5.453995871880849e-32 17.80456665296834\n",
      "5.784680949966289e-20 5.8817806404813044\n",
      "['<s>', 'To', 'me', 'the', 'real', ',', 'real', 'solution', 'to', 'quality', 'growth', 'is', 'figuring', 'out', 'the', 'balance', 'between', 'two', 'activities', ':', 'exploration', 'and', 'exploitation', '.', '</s>']\n",
      "1.4947414728767185e-75 984.0504326384658\n",
      "2.610548914437361e-54 139.10115195961973\n",
      "9.251353707618525e-27 10.998964202219433\n",
      "9.7727081854066e-18 4.790704711929166\n",
      "['<s>', 'Both', 'are', 'necessary', ',', 'but', 'it', 'can', 'be', 'too', 'much', 'of', 'a', 'good', 'thing', '.', '</s>']\n",
      "4.905910813840704e-43 308.1634993707003\n",
      "7.410519193884516e-26 30.077670535673615\n",
      "1.1580949433204975e-16 8.658184055618948\n",
      "4.3826016703124964e-13 5.332820197706783\n",
      "['<s>', 'Consider', 'Facit', '.', '</s>']\n",
      "1.0861851784687836e-15 983.601597757369\n",
      "3.601924686357515e-07 19.43985738130337\n",
      "0.001524390243902439 3.6591546756088276\n",
      "0.04000000000000001 1.9036539387158784\n",
      "['<s>', 'I', \"'m\", 'actually', 'old', 'enough', 'to', 'remember', 'them', '.', '</s>']\n",
      "2.1792618466536344e-27 265.332258129839\n",
      "5.565779593033932e-17 30.03858384272893\n",
      "2.932862209929887e-10 7.355460187116847\n",
      "1.962146043079387e-08 5.019503810767168\n",
      "['<s>', 'Facit', 'was', 'a', 'fantastic', 'company', '.', '</s>']\n",
      "1.2381071778064074e-22 547.5265960387644\n",
      "5.79095511307193e-14 45.149840992998016\n",
      "1.9979662392107007e-07 6.877434799574971\n",
      "0.00016000000000000007 2.981844571770067\n",
      "['<s>', 'They', 'were', 'born', 'deep', 'in', 'the', 'Swedish', 'forest', ',', 'and', 'they', 'made', 'the', 'best', 'mechanical', 'calculators', 'in', 'the', 'world', '.', '</s>']\n",
      "4.1935675376331765e-61 555.1725903964199\n",
      "1.1544245238226654e-34 34.88347550673246\n",
      "2.6135704997746203e-27 16.155021319265185\n",
      "1.0268353543641998e-18 6.571417408770432\n",
      "['<s>', 'Everybody', 'used', 'them', '.', '</s>']\n",
      "2.9077861731125787e-15 264.69125238796335\n",
      "2.4640829188011942e-09 27.20972256353597\n",
      "0.0001149908900632619 4.534778658232524\n",
      "0.008000000000000002 2.2360679774997894\n",
      "['<s>', 'And', 'what', 'did', 'Facit', 'do', 'when', 'the', 'electronic', 'calculator', 'came', 'along', '?', 'They', 'continued', 'doing', 'exactly', 'the', 'same', '.', '</s>']\n",
      "7.942752252150313e-64 1011.028236456335\n",
      "5.2710232419904196e-39 66.49161905372789\n",
      "5.729831547140458e-22 10.268737557757795\n",
      "1.1743665842593555e-14 4.606198840383983\n",
      "['<s>', 'In', 'six', 'months', ',', 'they', 'went', 'from', 'maximum', 'revenue', '.', '</s>']\n",
      "1.0961046578835083e-34 676.102172419922\n",
      "1.3020903166365428e-18 30.934747409281428\n",
      "6.837608066113335e-14 12.50521942030563\n",
      "7.054673721340388e-09 4.778521990660996\n"
     ]
    }
   ],
   "source": [
    "### YOUR CODE HERE ###\n",
    "P1 =[]\n",
    "P2 = []\n",
    "P3 = []\n",
    "P4 = []\n",
    "PP1 = []\n",
    "PP2 = []\n",
    "PP3 = []\n",
    "PP4 = []\n",
    "for words in data:\n",
    "    Pn1 = 1\n",
    "    Pn2 = 1\n",
    "    Pn3 = 1\n",
    "    Pn4 = 1\n",
    "    for i in range(len(words)):\n",
    "        Pn1 = Pn1 *unigram[words[i]]\n",
    "        if i>0:\n",
    "            Pn2 = Pn2 * bigram[words[i-1]][words[i]]\n",
    "        if i>1:\n",
    "            Pn3 = Pn3 * trigram[words[i-2] + \" \" + words[i-1]][words[i]]\n",
    "        if i>2:\n",
    "            Pn4 = Pn4 * quadgram[words[i-3] + \" \"+ words[i-2] + \" \" + words[i-1]][words[i]]\n",
    "        if i == len(words)-1:\n",
    "            P1.append(Pn1)\n",
    "            PP1.append(Pn1**(-1/len(words)) if Pn1 != 0 else 0)\n",
    "            P2.append(Pn2)\n",
    "            PP2.append(Pn2**(-1/len(words)) if Pn2 != 0 else 0)\n",
    "            P3.append(Pn3)\n",
    "            PP3.append(Pn3**(-1/len(words)) if Pn3 != 0 else 0)\n",
    "            P4.append(Pn4)\n",
    "            PP4.append(Pn4**(-1/len(words)) if Pn4 != 0 else 0)\n",
    "            \n",
    "for i in range(10):\n",
    "    print(data[i])\n",
    "    print(P1[i],PP1[i])\n",
    "    print(P2[i],PP2[i])\n",
    "    print(P3[i],PP3[i])\n",
    "    print(P4[i],PP4[i])"
   ]
  },
  {
   "cell_type": "markdown",
   "metadata": {
    "id": "dOVM67OorYaM"
   },
   "source": [
    "YOUR ANSWER HERE"
   ]
  },
  {
   "cell_type": "markdown",
   "metadata": {
    "id": "sO4R78RKrYaM"
   },
   "source": [
    "# That's it!\n",
    "\n",
    "Congratulations, you have made it to the end of the tutorial. Here we will recap the gist of this notebook. \n",
    "\n",
    "**Make sure all your cells can be executed and all your answers are there. Then, read on if you're interested!**\n",
    "\n",
    "-----\n",
    "\n",
    "By now you should have a solid feeling for the problem of **sparsity in language data**; there's just never enough data. For the task of language modelling, we saw that sparsity is a serious challenge. \n",
    "\n",
    "It would be great to be able to model $p(w_n|w_1 \\dots w_{n-1})$ for unlimited $n$: the larger $n$ the better our language model should become at capturing the long-range dependencies between words that characterize actual human sentences, and the more probability our model will asign to such sentences as opposed to sentences that are word-soup. But in the N-gram approach, increasing $n$ will quickly kill all generalizing abilities of the model: the model will start to asign probabilities only to sentences it has seen in the training data.\n",
    "\n",
    "So, where to go from here? Here are three directions that we could head in.\n",
    "\n",
    "### Smoothing\n",
    "\n",
    "We have seen one example of smoothing in this lab: add-k smoothing. This is an easy method, both conceptually and implementation-wise. But the results are not great, and the effects it has on the distributions can be extreme.\n",
    "\n",
    "A much more sophisticated method of smoothing is so-called **Kneser-Ney smoothing**. The method is described in detail in section 4.5 of J&M (3rd edition). This is one of the best performing N-gram smoothing methods, and up to a few years ago a popular implementation of it called [KenLM](https://kheafield.com/code/kenlm/) gave state of the art results.\n",
    "\n",
    "### From words to characters\n",
    "\n",
    "In this lab we have considered language modeling as the task of predicting a **word** $w_n$ based on a history of **words** $w_1\\cdots w_n$. What if instead we let our basic units of modelling be **characters**? The task then becomes to model $p(c_k\\mid c_{k-N-1}\\dots c_{k-1})$ where each $c_i$ is now an ASCII character instead of an entire word.\n",
    "\n",
    "Suddenly sparsity of data is no longer a problem! The set of characters to use is tiny (< 100) compared to even a small-sized vocabulary as today. Have a look at this very illustrative notebook written by Yoav Golberg to see such a method in action: [The unreasonable effectiveness of Character-level Language Models](http://nbviewer.jupyter.org/gist/yoavg/d76121dfde2618422139).\n",
    "\n",
    "(So what is the downside?)\n",
    "\n",
    "\n",
    "### Neural language models\n",
    "\n",
    "The above notebook was actually written as a response to this blog post by Andrej Karpathy: [The Unreasonable Effectiveness of Recurrent Neural Networks](http://karpathy.github.io/2015/05/21/rnn-effectiveness/). Go ahead and read it if you haven't already: it is a superb introduction to the topic of Recurrent Neural Networks.\n",
    "\n",
    "Neural language models solve the problem of data sparsity in a different manner. Instead of estimating the probabilities $p(w_k\\mid w_{k-N-1}\\dots w_{k-1})$ by counting occurences in the data, they use a neural network $f_{\\theta}$ parametrized by parameters $\\theta$ to predict this probability. The parameters $\\theta$ are learned through optimization. \n",
    "\n",
    "The simplest approach goes like this: each word in the history $w_{k-N-1}\\dots w_{k-1}$ is embedded separately giving  vectors $e_{k-N-1}\\dots e_{k-1}$ and then concatenated into one long vectors $[e_{k-N-1};\\dots ;e_{k-1}]$. The network then uses this history vector to predict a probability distribution over words $w$ in the vocabulary $V$:\n",
    "\n",
    "$$p(w \\mid w_{k-N-1}\\dots w_{k-1}) = f_{\\theta}([e_{k-N-1};\\dots;e_{k-1}]).$$\n",
    "\n",
    "(In order to produce legitimate probabilities the final layer of such a network will be for example a $softmax$.)\n",
    "\n",
    "This provides a solution to the sparsity problem by having the network let the individual embeddings of the words in the history interact through its non-linear transforamtion. We are letting the network figure out the smoothing itself!\n",
    "\n",
    "RNNs are a clever extension of this idea, where a hidden state vector $h$ is re-used and updated at each step $k$ in order to store the information of the entire history up to step $k-1$. That is, an RNN actually does away with the N-order approximation; it tries to model the full conditional directly! That means that\n",
    "\n",
    "$$p(w \\mid w_1\\dots w_{k-1}) \\approx RNN_{\\theta}([e_{k-1};h_{k-1}])$$\n",
    "\n",
    "where the hidden state $h_{k-1}$ is a compression of the *entire history* $w_1\\dots w_{k-1}$.\n",
    "\n",
    "Another great place to learn about RNNs, their problems, and solutions to those, is on the blog of [Christopher Olah](http://colah.github.io/posts/2015-08-Understanding-LSTMs/). \n",
    "\n",
    "-----------\n",
    "(And now, it's time to read the classic essay by Eugene Wigner that gave both of the posts their title: [The Unreasonable Effectiveness of Mathematics in the Natural Sciences](http://www.dartmouth.edu/~matc/MathDrama/reading/Wigner.html))\n",
    "\n",
    "\n",
    "Acknowledgements: Most of this lab was developed in collabnoration with Joost Bastings and Dan Douwe."
   ]
  },
  {
   "cell_type": "code",
   "execution_count": null,
   "metadata": {
    "id": "9cKYnamkrYaN"
   },
   "outputs": [],
   "source": []
  }
 ],
 "metadata": {
  "anaconda-cloud": {},
  "colab": {
   "collapsed_sections": [],
   "name": "lab1_Xinhao.ipynb",
   "provenance": []
  },
  "kernelspec": {
   "display_name": "Python 3 (ipykernel)",
   "language": "python",
   "name": "python3"
  },
  "language_info": {
   "codemirror_mode": {
    "name": "ipython",
    "version": 3
   },
   "file_extension": ".py",
   "mimetype": "text/x-python",
   "name": "python",
   "nbconvert_exporter": "python",
   "pygments_lexer": "ipython3",
   "version": "3.8.13"
  },
  "toc": {
   "base_numbering": 1,
   "nav_menu": {},
   "number_sections": true,
   "sideBar": true,
   "skip_h1_title": false,
   "title_cell": "Table of Contents",
   "title_sidebar": "Contents",
   "toc_cell": false,
   "toc_position": {},
   "toc_section_display": true,
   "toc_window_display": false
  }
 },
 "nbformat": 4,
 "nbformat_minor": 1
}
